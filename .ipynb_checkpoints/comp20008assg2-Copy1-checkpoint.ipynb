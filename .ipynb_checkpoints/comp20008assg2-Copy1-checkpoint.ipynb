{
 "cells": [
  {
   "cell_type": "code",
   "execution_count": 250,
   "metadata": {
    "executionInfo": {
     "elapsed": 27,
     "status": "ok",
     "timestamp": 1683808895876,
     "user": {
      "displayName": "Jonas Sun",
      "userId": "12770804660918315892"
     },
     "user_tz": -600
    },
    "id": "Umf-vcKHO_ZK"
   },
   "outputs": [],
   "source": [
    "# dependencies\n",
    "\n",
    "# functionalities\n",
    "import pandas as pd\n",
    "import re\n",
    "import random\n",
    "import datetime\n",
    "import numpy as np\n",
    "from collections import Counter\n",
    "import holidays\n",
    "import json\n",
    "\n",
    "# visualisation\n",
    "import matplotlib.pyplot as plt\n",
    "import seaborn as sns\n",
    "from vat import VAT\n",
    "\n",
    "# NLP\n",
    "from nltk.corpus import stopwords\n",
    "from nltk.stem.porter import PorterStemmer\n",
    "from sklearn.feature_extraction.text import CountVectorizer\n",
    "# from sklearn.decomposition import PCA\n",
    "from sklearn.preprocessing import Normalizer\n",
    "import openai\n",
    "from sklearn.cluster import KMeans"
   ]
  },
  {
   "cell_type": "markdown",
   "metadata": {
    "id": "8P2UiKUyPzhR"
   },
   "source": [
    "# Introduction\n",
    "\n"
   ]
  },
  {
   "cell_type": "markdown",
   "metadata": {
    "id": "DIOsVbokQqkb"
   },
   "source": [
    "## Introduction of dataset\n",
    "\n",
    "### background\n",
    "SOP, or security of payment, is an Act to provide entitlements to progress payments for persons who carry out construction work or who supply related goods and services under construction contracts.  \n",
    "\n",
    "The object of this Act is to ensure that any person who undertakes to carry out construction work or who undertakes to supply related goods and services under a construction contract is entitled to receive, and is able to recover, progress payments in relation to the carrying out of that work and the supplying of those goods and services.\n",
    "\n",
    "### application process"
   ]
  },
  {
   "cell_type": "markdown",
   "metadata": {
    "id": "D7uvrVmHQr8M"
   },
   "source": [
    "## Research Question and Target audience\n",
    "\n",
    "Our target audience would be the potential users of the SOP service, we strive to answer the following question for them: \n",
    "\n",
    "> _For a potential user of the SOP service, given its before application condition, should it use the SOP service?_\n",
    "\n",
    "We'll address this question by considering 3 criteria:\n",
    "1. Given the potential claimant's current situation, what is the expected adjudicated amount? (as a % of its claimed amount)\n",
    "2. Given the potential claimant’s current situation, what % of the adjudicator fee is it expecting to pay? (beta regression because response variable is a %)\n",
    "3. What is the expected adjudicator fee as a % of my claimed amount\n",
    "4. Is potential claimant's work provided covered under SOP? (NLP)\n",
    "5. What is the potential claimant’s standing among all the previous applicants? (visualisation)\n",
    "\n",
    "Another potential audience of our research is Victorian government because we might expose some of SOP act's merit during our research which will encourage more people to use adjudication service instead of taking to the legal path, thus saving public resource.\n"
   ]
  },
  {
   "cell_type": "markdown",
   "metadata": {
    "id": "qJdo_m8hJjmj"
   },
   "source": [
    "# Data Wrangling"
   ]
  },
  {
   "cell_type": "code",
   "execution_count": 251,
   "metadata": {
    "colab": {
     "base_uri": "https://localhost:8080/",
     "height": 600
    },
    "executionInfo": {
     "elapsed": 25,
     "status": "ok",
     "timestamp": 1683808895876,
     "user": {
      "displayName": "Jonas Sun",
      "userId": "12770804660918315892"
     },
     "user_tz": -600
    },
    "id": "GgzNG2KmQny5",
    "outputId": "c4a99ef3-6eb5-471d-8b89-16f301186b45"
   },
   "outputs": [
    {
     "data": {
      "text/html": [
       "<div>\n",
       "<style scoped>\n",
       "    .dataframe tbody tr th:only-of-type {\n",
       "        vertical-align: middle;\n",
       "    }\n",
       "\n",
       "    .dataframe tbody tr th {\n",
       "        vertical-align: top;\n",
       "    }\n",
       "\n",
       "    .dataframe thead th {\n",
       "        text-align: right;\n",
       "    }\n",
       "</style>\n",
       "<table border=\"1\" class=\"dataframe\">\n",
       "  <thead>\n",
       "    <tr style=\"text-align: right;\">\n",
       "      <th></th>\n",
       "      <th>Application date</th>\n",
       "      <th>Acceptance date</th>\n",
       "      <th>Description of project and contract works</th>\n",
       "      <th>Project postcode</th>\n",
       "      <th>Claimed amount (ex GST)</th>\n",
       "      <th>Payment Schedule provided</th>\n",
       "      <th>Payment Schedule provision</th>\n",
       "      <th>Amount of Payment Schedule (ex GST)</th>\n",
       "      <th>Section of Act application made under</th>\n",
       "      <th>Section 18(2) notice issued</th>\n",
       "      <th>...</th>\n",
       "      <th>ANA application fee (ex GST)</th>\n",
       "      <th>Adjudication Certificate issued</th>\n",
       "      <th>Adjudication Certificate fee (ex GST)</th>\n",
       "      <th>Date Adjudication Certificate issued</th>\n",
       "      <th>Other ANA fees</th>\n",
       "      <th>Value of Other ANA fees (ex GST)</th>\n",
       "      <th>Adjudicator fee charged</th>\n",
       "      <th>ANA percentage of Adjudicator fee %</th>\n",
       "      <th>ANA fee from Adjudicator fee (ex GST)</th>\n",
       "      <th>Adjudicator share of adjudicator fee - amount</th>\n",
       "    </tr>\n",
       "    <tr>\n",
       "      <th>No. of App.</th>\n",
       "      <th></th>\n",
       "      <th></th>\n",
       "      <th></th>\n",
       "      <th></th>\n",
       "      <th></th>\n",
       "      <th></th>\n",
       "      <th></th>\n",
       "      <th></th>\n",
       "      <th></th>\n",
       "      <th></th>\n",
       "      <th></th>\n",
       "      <th></th>\n",
       "      <th></th>\n",
       "      <th></th>\n",
       "      <th></th>\n",
       "      <th></th>\n",
       "      <th></th>\n",
       "      <th></th>\n",
       "      <th></th>\n",
       "      <th></th>\n",
       "      <th></th>\n",
       "    </tr>\n",
       "  </thead>\n",
       "  <tbody>\n",
       "    <tr>\n",
       "      <th>1</th>\n",
       "      <td>2021-05-11</td>\n",
       "      <td>2021-05-14</td>\n",
       "      <td>Concrete polishing</td>\n",
       "      <td>3186</td>\n",
       "      <td>11327.27</td>\n",
       "      <td>No</td>\n",
       "      <td>S18</td>\n",
       "      <td>NaN</td>\n",
       "      <td>s.18(1)(b)</td>\n",
       "      <td>Yes</td>\n",
       "      <td>...</td>\n",
       "      <td>0</td>\n",
       "      <td>Yes</td>\n",
       "      <td>100</td>\n",
       "      <td>2021-12-20 00:00:00</td>\n",
       "      <td>NaN</td>\n",
       "      <td>NaN</td>\n",
       "      <td>Yes</td>\n",
       "      <td>0.33</td>\n",
       "      <td>330</td>\n",
       "      <td>660</td>\n",
       "    </tr>\n",
       "    <tr>\n",
       "      <th>2</th>\n",
       "      <td>2021-05-21</td>\n",
       "      <td>2021-05-26</td>\n",
       "      <td>Design and construction works</td>\n",
       "      <td>3039</td>\n",
       "      <td>202230.09</td>\n",
       "      <td>Yes</td>\n",
       "      <td>s15</td>\n",
       "      <td>0.0</td>\n",
       "      <td>s.18(1)(a)(i)</td>\n",
       "      <td>NaN</td>\n",
       "      <td>...</td>\n",
       "      <td>0</td>\n",
       "      <td>Yes</td>\n",
       "      <td>0</td>\n",
       "      <td>2021-08-31 00:00:00</td>\n",
       "      <td>NaN</td>\n",
       "      <td>NaN</td>\n",
       "      <td>Yes</td>\n",
       "      <td>0.15</td>\n",
       "      <td>5313</td>\n",
       "      <td>30107</td>\n",
       "    </tr>\n",
       "    <tr>\n",
       "      <th>3</th>\n",
       "      <td>2021-06-10</td>\n",
       "      <td>2021-06-16</td>\n",
       "      <td>Supply and installation of joinery</td>\n",
       "      <td>3186</td>\n",
       "      <td>19456.93</td>\n",
       "      <td>Yes</td>\n",
       "      <td>s18</td>\n",
       "      <td>0.0</td>\n",
       "      <td>s.18(1)(b)</td>\n",
       "      <td>Yes</td>\n",
       "      <td>...</td>\n",
       "      <td>NaN</td>\n",
       "      <td>NaN</td>\n",
       "      <td>NaN</td>\n",
       "      <td>NaN</td>\n",
       "      <td>NaN</td>\n",
       "      <td>NaN</td>\n",
       "      <td>No</td>\n",
       "      <td>0.33</td>\n",
       "      <td>777.27</td>\n",
       "      <td>1554.55</td>\n",
       "    </tr>\n",
       "    <tr>\n",
       "      <th>4</th>\n",
       "      <td>2021-06-21</td>\n",
       "      <td>2021-06-24</td>\n",
       "      <td>Shop fit-out</td>\n",
       "      <td>3141</td>\n",
       "      <td>73212.33</td>\n",
       "      <td>No</td>\n",
       "      <td>s18</td>\n",
       "      <td>NaN</td>\n",
       "      <td>s.18(1)(b)</td>\n",
       "      <td>Yes</td>\n",
       "      <td>...</td>\n",
       "      <td>0</td>\n",
       "      <td>Yes</td>\n",
       "      <td>500</td>\n",
       "      <td>2021-07-16 00:00:00</td>\n",
       "      <td>NaN</td>\n",
       "      <td>NaN</td>\n",
       "      <td>Yes</td>\n",
       "      <td>0.333333</td>\n",
       "      <td>1909.09</td>\n",
       "      <td>3818.18</td>\n",
       "    </tr>\n",
       "    <tr>\n",
       "      <th>5</th>\n",
       "      <td>2021-06-24</td>\n",
       "      <td>2021-06-29</td>\n",
       "      <td>Installation of new roof and gutters</td>\n",
       "      <td>3201</td>\n",
       "      <td>2266.12</td>\n",
       "      <td>Yes</td>\n",
       "      <td>s15</td>\n",
       "      <td>0.0</td>\n",
       "      <td>s.18(1)(a)(i)</td>\n",
       "      <td>NaN</td>\n",
       "      <td>...</td>\n",
       "      <td>0</td>\n",
       "      <td>NaN</td>\n",
       "      <td>NaN</td>\n",
       "      <td>NaN</td>\n",
       "      <td>NaN</td>\n",
       "      <td>NaN</td>\n",
       "      <td>No</td>\n",
       "      <td>NaN</td>\n",
       "      <td>NaN</td>\n",
       "      <td>0</td>\n",
       "    </tr>\n",
       "  </tbody>\n",
       "</table>\n",
       "<p>5 rows × 44 columns</p>\n",
       "</div>"
      ],
      "text/plain": [
       "            Application date Acceptance date  \\\n",
       "No. of App.                                    \n",
       "1                 2021-05-11      2021-05-14   \n",
       "2                 2021-05-21      2021-05-26   \n",
       "3                 2021-06-10      2021-06-16   \n",
       "4                 2021-06-21      2021-06-24   \n",
       "5                 2021-06-24      2021-06-29   \n",
       "\n",
       "            Description of project and contract works Project postcode  \\\n",
       "No. of App.                                                              \n",
       "1                                  Concrete polishing             3186   \n",
       "2                       Design and construction works             3039   \n",
       "3                  Supply and installation of joinery             3186   \n",
       "4                                        Shop fit-out             3141   \n",
       "5               Installation of new roof and gutters              3201   \n",
       "\n",
       "             Claimed amount (ex GST) Payment Schedule provided  \\\n",
       "No. of App.                                                      \n",
       "1                           11327.27                        No   \n",
       "2                          202230.09                       Yes   \n",
       "3                           19456.93                       Yes   \n",
       "4                           73212.33                        No   \n",
       "5                            2266.12                       Yes   \n",
       "\n",
       "            Payment Schedule provision  Amount of Payment Schedule (ex GST)  \\\n",
       "No. of App.                                                                   \n",
       "1                                  S18                                  NaN   \n",
       "2                                  s15                                  0.0   \n",
       "3                                  s18                                  0.0   \n",
       "4                                  s18                                  NaN   \n",
       "5                                  s15                                  0.0   \n",
       "\n",
       "            Section of Act application made under Section 18(2) notice issued  \\\n",
       "No. of App.                                                                     \n",
       "1                                      s.18(1)(b)                         Yes   \n",
       "2                                   s.18(1)(a)(i)                         NaN   \n",
       "3                                      s.18(1)(b)                         Yes   \n",
       "4                                      s.18(1)(b)                         Yes   \n",
       "5                                   s.18(1)(a)(i)                         NaN   \n",
       "\n",
       "             ... ANA application fee (ex GST) Adjudication Certificate issued  \\\n",
       "No. of App.  ...                                                                \n",
       "1            ...                            0                             Yes   \n",
       "2            ...                            0                             Yes   \n",
       "3            ...                          NaN                             NaN   \n",
       "4            ...                            0                             Yes   \n",
       "5            ...                            0                             NaN   \n",
       "\n",
       "            Adjudication Certificate fee (ex GST)  \\\n",
       "No. of App.                                         \n",
       "1                                             100   \n",
       "2                                               0   \n",
       "3                                             NaN   \n",
       "4                                             500   \n",
       "5                                             NaN   \n",
       "\n",
       "            Date Adjudication Certificate issued Other ANA fees  \\\n",
       "No. of App.                                                       \n",
       "1                            2021-12-20 00:00:00            NaN   \n",
       "2                            2021-08-31 00:00:00            NaN   \n",
       "3                                            NaN            NaN   \n",
       "4                            2021-07-16 00:00:00            NaN   \n",
       "5                                            NaN            NaN   \n",
       "\n",
       "            Value of Other ANA fees (ex GST) Adjudicator fee charged  \\\n",
       "No. of App.                                                            \n",
       "1                                        NaN                     Yes   \n",
       "2                                        NaN                     Yes   \n",
       "3                                        NaN                      No   \n",
       "4                                        NaN                     Yes   \n",
       "5                                        NaN                      No   \n",
       "\n",
       "            ANA percentage of Adjudicator fee %  \\\n",
       "No. of App.                                       \n",
       "1                                          0.33   \n",
       "2                                          0.15   \n",
       "3                                          0.33   \n",
       "4                                      0.333333   \n",
       "5                                           NaN   \n",
       "\n",
       "            ANA fee from Adjudicator fee (ex GST)  \\\n",
       "No. of App.                                         \n",
       "1                                             330   \n",
       "2                                            5313   \n",
       "3                                          777.27   \n",
       "4                                         1909.09   \n",
       "5                                             NaN   \n",
       "\n",
       "            Adjudicator share of adjudicator fee - amount  \n",
       "No. of App.                                                \n",
       "1                                                     660  \n",
       "2                                                   30107  \n",
       "3                                                 1554.55  \n",
       "4                                                 3818.18  \n",
       "5                                                       0  \n",
       "\n",
       "[5 rows x 44 columns]"
      ]
     },
     "execution_count": 251,
     "metadata": {},
     "output_type": "execute_result"
    }
   ],
   "source": [
    "df_original = pd.read_excel('./assg2/datasets-2023/adjudication-data/Adjudication-Activity-Statistics-2021-2022-Financial-Year.XLSX', index_col = 0)\n",
    "df = df_original.copy(deep=True)\n",
    "df.head()"
   ]
  },
  {
   "cell_type": "code",
   "execution_count": 252,
   "metadata": {
    "colab": {
     "base_uri": "https://localhost:8080/"
    },
    "executionInfo": {
     "elapsed": 23,
     "status": "ok",
     "timestamp": 1683808895876,
     "user": {
      "displayName": "Jonas Sun",
      "userId": "12770804660918315892"
     },
     "user_tz": -600
    },
    "id": "VqnPLqQKwlq2",
    "outputId": "fcd597b3-6ecc-4f8b-da75-90896723dd17"
   },
   "outputs": [
    {
     "data": {
      "text/plain": [
       "None              190\n",
       "Solicitors         96\n",
       "Claim preparer     28\n",
       "Consultant          7\n",
       "Not known           3\n",
       "Name: Claimant advisers, dtype: int64"
      ]
     },
     "execution_count": 252,
     "metadata": {},
     "output_type": "execute_result"
    }
   ],
   "source": [
    "df['Claimant advisers'].value_counts(dropna=False)"
   ]
  },
  {
   "cell_type": "code",
   "execution_count": 253,
   "metadata": {
    "colab": {
     "base_uri": "https://localhost:8080/"
    },
    "executionInfo": {
     "elapsed": 13,
     "status": "ok",
     "timestamp": 1683808895876,
     "user": {
      "displayName": "Jonas Sun",
      "userId": "12770804660918315892"
     },
     "user_tz": -600
    },
    "id": "REpRSFW8RLpr",
    "outputId": "8dc74079-9472-485b-82be-f4b92d8c9b35"
   },
   "outputs": [
    {
     "data": {
      "text/plain": [
       "Index(['Application date', 'Acceptance date',\n",
       "       'Description of project and contract works', 'Project postcode',\n",
       "       'Claimed amount (ex GST)', 'Payment Schedule provided',\n",
       "       'Payment Schedule provision', 'Amount of Payment Schedule (ex GST)',\n",
       "       'Section of Act application made under', 'Section 18(2) notice issued',\n",
       "       'Business Type/Activity (Claimant)', 'Business Structure (Claimant)',\n",
       "       'Claimant advisers', 'Business Type/Activity (Respondent)',\n",
       "       'Business Structure (Respondent)', 'Respondent advisers',\n",
       "       'Determination status', 'Determination completion date',\n",
       "       'Reasons if the application is not determined',\n",
       "       's21(2B) new reasons provided by Respondent',\n",
       "       's21(2B) notice sent to Claimant', 's22(4)(b) extension of time sought',\n",
       "       'Determination released', 'Determination released date',\n",
       "       'Adjudicated amount (ex GST)', 'Amended determination', 'Fee type',\n",
       "       'Total Adjudicator fee (ex GST)',\n",
       "       'Adjudicator's fee payable by Claimant %',\n",
       "       'Adjudicator's fee payable by Respondent %',\n",
       "       'Adjudicator's fee payable by Claimant (ex GST)',\n",
       "       'Adjudicator's fee payable by Respondent (ex GST)',\n",
       "       'Other Adjudicator fees', 'Value of other Adjudicator fees (ex GST)',\n",
       "       'ANA application fee (ex GST)', 'Adjudication Certificate issued',\n",
       "       'Adjudication Certificate fee (ex GST)',\n",
       "       'Date Adjudication Certificate issued', 'Other ANA fees',\n",
       "       'Value of Other ANA fees (ex GST)', 'Adjudicator fee charged',\n",
       "       'ANA percentage of Adjudicator fee %',\n",
       "       'ANA fee from Adjudicator fee (ex GST)',\n",
       "       'Adjudicator share of adjudicator fee - amount'],\n",
       "      dtype='object')"
      ]
     },
     "execution_count": 253,
     "metadata": {},
     "output_type": "execute_result"
    }
   ],
   "source": [
    "df.columns"
   ]
  },
  {
   "cell_type": "markdown",
   "metadata": {
    "id": "V1htlSC3Eh5I"
   },
   "source": [
    "### data clearing process\n",
    "\n",
    "[Google Colab Markdown Tutorial](https://colab.research.google.com/notebooks/markdown_guide.ipynb#scrollTo=w86a4I4fmkvD)\n",
    "\n",
    "NPSP: No Payment Schedule Provided\n",
    "NP: no problem\n",
    "\n",
    "put an 'x' inside the checkbox to indicate the process is finished\n",
    "- [x] 'No. of App.'\n",
    "- [x] 'Application date'\n",
    "- [x] 'Acceptance date'\n",
    "  - there are some missing values, but those are not actually missing, it's just\n",
    "    1. application is withdrawn\n",
    "    2. dispute is settled\n",
    "    3. not yet determined, cases near the end of period\n",
    "- [x] 'Description of project and contract works'\n",
    "- [x] 'Project postcode'\n",
    "  - there is one case of 'multiple': replaced with mode\n",
    "- [x] 'Claimed amount (ex GST)'\n",
    "- [x] 'Payment Schedule provided'\n",
    "  - information nested in 'Section of Act application made under'\n",
    "  - [x] can be removed\n",
    "- [x] 'Payment Schedule provision'\n",
    "  - information nested in 'Section of Act application made under'\n",
    "  - [x] can be removed \n",
    "- [x] 'Amount of Payment Schedule (ex GST)'\n",
    "  - all the NA corresponds to NPSP\n",
    "  - there are some negative values, may indicate respondent think some of the money they paid should be clawed back\n",
    "- [x] 'Section of Act application made under'\n",
    "- [x] 'Section 18(2) notice issued'\n",
    "  - 18(2) corresponds to 18(1)(b), so all the NA are cases where application is made under 18(1)(a), NP\n",
    "  - all the 18(1)(b) cases has issued notice, NP\n",
    "  - [x] just drop the column, no information\n",
    "  - or we could just ignore this, because every application is abide by law and report this in [rudimentary analysis](#scrollTo=Rudimentary_Data_Analysis)\n",
    "- [x] 'Business Type/Activity (Claimant)'\n",
    "- [x] 'Business Structure (Claimant)'\n",
    "- [x] 'Claimant advisers'\n",
    "  - 3 cases of 'Not Known': convert to mode\n",
    "- [x] 'Business Type/Activity (Respondent)'\n",
    "- [x] 'Business Structure (Respondent)'\n",
    "- [x] 'Respondent advisers'\n",
    "  - 41 cases of 'Not Known'\n",
    "  - [x] 1 case of blank, need to convert to 'Not Known'\n",
    "  - assigned value based on distribution of not null values\n",
    "- [x] 'Determination status'\n",
    "  - [x] should drop rows where status is 'Not Yet Determined', 8 cases\n",
    "- [x] 'Determination completion date'\n",
    "  - all the blank or NA cases are 'not determined', so NP\n",
    "  - [x] except for row 264\n",
    "- [x] 'Reasons if the application is not determined'\n",
    "  - all blank or NA are cases determined, so NP\n",
    "  - [x] row 2 (row 4 in excel) contradictory data: determined but with 'reason not determined', set to NaN\n",
    "- [x] 's21(2B) new reasons provided by Respondent'\n",
    "  - [x] NA, No, blank should all be treated as No\n",
    "- [x] 's21(2B) notice sent to Claimant'\n",
    "  - [x] NP, gives no information, could drop\n",
    "- [x] 's22(4)(b) extension of time sought'\n",
    "  - [x] convert all non-'Yes' values to no\n",
    "- [x] 'Determination released'\n",
    "  - [x] row 221, 296: has a release date, but no determination released, fill it in with 'Yes'\n",
    "  - [x] row 197, 310: information regarding determination is withheld, other information is quite normal, could drop these 2 rows\n",
    "  - [x] row 208, determined but no determination release, missing data, no too much problem, we are not using determination release as predictor in supervised ML model, could fill with 'Yes'\n",
    "  - [x] row 8, wrong data, should be no\n",
    "  - other data NP\n",
    "- [x] 'Determination released date'\n",
    "  - [x] row 204, wrong data, fix\n",
    "  - [x] row 222, 223. wrong data, fix\n",
    "- [x] 'Adjudicated amount (ex GST)'\n",
    "  - [x] row 56, 197: information regarding determination withheld\n",
    "- [x] 'Amended determination'\n",
    "  - 2 cases of YES\n",
    "- [x] 'Fee type'\n",
    "  - [x] Drop \n",
    "- [x] 'Total Adjudicator fee (ex GST)'\n",
    "- [x] 'Adjudicator's fee payable by Claimant %'\n",
    "  - [x] fix cases \"determined\" but no Adjudicator fee\n",
    "- [x] 'Adjudicator's fee payable by Respondent %'\n",
    "- [x] 'Adjudicator's fee payable by Claimant (ex GST)'\n",
    "- [x] 'Adjudicator's fee payable by Respondent (ex GST)'\n",
    "- [x] 'ANA application fee (ex GST)'\n",
    "  - [x] None, N/A, 0, No\n",
    "  - [x] Drop \n",
    "- [ ] 'Adjudication Certificate issued'\n",
    "  - [ ] Yes, No, \n",
    "  - [ ] None, N/A\n",
    "- [ ] 'Adjudication Certificate fee (ex GST)'\n",
    "- [x] 'Date Adjudication Certificate issued'\n",
    "- [x] app. no. 274 - 280 is actually one same application, merge them into one row."
   ]
  },
  {
   "cell_type": "code",
   "execution_count": 254,
   "metadata": {
    "executionInfo": {
     "elapsed": 7,
     "status": "ok",
     "timestamp": 1683808895876,
     "user": {
      "displayName": "Jonas Sun",
      "userId": "12770804660918315892"
     },
     "user_tz": -600
    },
    "id": "PI-G7K7mjQew"
   },
   "outputs": [],
   "source": [
    "# drop some informatino that is not relevant to our research topic\n",
    "# last 4 columns: see RULES section in the rudimentary analysis\n",
    "# merchant fee is fee paid to companies who provide card services (Master, Visa...), not relevant to our research dropped\n",
    "# column 'Payment schedule provided' and 'Payment Schedule provision' can be removed\n",
    "# since Section of Act application made under\n",
    "df = df.drop(columns=[\n",
    "       'Other Adjudicator fees', \n",
    "       'Value of other Adjudicator fees (ex GST)',\n",
    "       'Other ANA fees',\n",
    "       'Value of Other ANA fees (ex GST)',\n",
    "       'Adjudicator fee charged',\n",
    "       'Amended determination',\n",
    "       'ANA application fee (ex GST)',\n",
    "       'ANA percentage of Adjudicator fee %',\n",
    "       'ANA fee from Adjudicator fee (ex GST)',\n",
    "       'Adjudicator share of adjudicator fee - amount',\n",
    "       'Section 18(2) notice issued',\n",
    "       'Payment Schedule provided',\n",
    "       'Payment Schedule provision',\n",
    "       's21(2B) notice sent to Claimant', \n",
    "       'Fee type'\n",
    "      ])"
   ]
  },
  {
   "cell_type": "code",
   "execution_count": 255,
   "metadata": {
    "executionInfo": {
     "elapsed": 6,
     "status": "ok",
     "timestamp": 1683808895876,
     "user": {
      "displayName": "Jonas Sun",
      "userId": "12770804660918315892"
     },
     "user_tz": -600
    },
    "id": "87BtWP5CaCmW"
   },
   "outputs": [],
   "source": [
    "# fixing postcode\n",
    "df.loc[(df['Project postcode'] == 'Multiple') | (df['Project postcode'].isna()), 'Project postcode'] = df['Project postcode'].mode()[0]"
   ]
  },
  {
   "cell_type": "code",
   "execution_count": 256,
   "metadata": {
    "executionInfo": {
     "elapsed": 7,
     "status": "ok",
     "timestamp": 1683808895877,
     "user": {
      "displayName": "Jonas Sun",
      "userId": "12770804660918315892"
     },
     "user_tz": -600
    },
    "id": "rLAYuXXXdw9d"
   },
   "outputs": [],
   "source": [
    "# set 'Claimant advisers' 'not known' cases to mode\n",
    "df.loc[df['Claimant advisers'] == 'Not known', 'Claimant advisers'] = df['Claimant advisers'].mode()[0]"
   ]
  },
  {
   "cell_type": "code",
   "execution_count": 257,
   "metadata": {
    "executionInfo": {
     "elapsed": 7,
     "status": "ok",
     "timestamp": 1683808895877,
     "user": {
      "displayName": "Jonas Sun",
      "userId": "12770804660918315892"
     },
     "user_tz": -600
    },
    "id": "ZNWHlgUXhi_v"
   },
   "outputs": [],
   "source": [
    "# randomly assign 'Respondent advisers' 'not known' and NaN cases values according to distribution\n",
    "RES_ADV_VAL_COUNT = df['Respondent advisers'].value_counts()\n",
    "RES_ADV_NOT_NULL_COL = list(set(RES_ADV_VAL_COUNT.index) - set(['Not known', 'Not determined']))\n",
    "RES_ADV_NOT_NULL_COL_VALUES = RES_ADV_VAL_COUNT[RES_ADV_NOT_NULL_COL]\n",
    "df.loc[(df['Respondent advisers'] == 'Not known') | (df['Respondent advisers'].isnull()) | (df['Respondent advisers'] == 'Not determined'), 'Respondent advisers'] = random.choices(\n",
    "    population = RES_ADV_NOT_NULL_COL,\n",
    "    weights = RES_ADV_NOT_NULL_COL_VALUES/sum(RES_ADV_NOT_NULL_COL_VALUES),\n",
    "    k = df.shape[0] - sum(RES_ADV_NOT_NULL_COL_VALUES)\n",
    ")"
   ]
  },
  {
   "cell_type": "code",
   "execution_count": 258,
   "metadata": {
    "executionInfo": {
     "elapsed": 6,
     "status": "ok",
     "timestamp": 1683808895877,
     "user": {
      "displayName": "Jonas Sun",
      "userId": "12770804660918315892"
     },
     "user_tz": -600
    },
    "id": "vCG8y_05tPnZ"
   },
   "outputs": [],
   "source": [
    "# drop rows that are not yet determined\n",
    "df = df.drop(df[df['Determination status'] == 'Not yet determined'].index)"
   ]
  },
  {
   "cell_type": "code",
   "execution_count": 259,
   "metadata": {
    "executionInfo": {
     "elapsed": 6,
     "status": "ok",
     "timestamp": 1683808895877,
     "user": {
      "displayName": "Jonas Sun",
      "userId": "12770804660918315892"
     },
     "user_tz": -600
    },
    "id": "ezCWR8iaIOLG"
   },
   "outputs": [],
   "source": [
    "# contradiction between 'Determination status' and 'Reasons if the application is not determined'\n",
    "df.loc[(df['Determination status'] == 'Determined') & (df['Reasons if the application is not determined'].notna()), 'Reasons if the application is not determined'] = np.nan"
   ]
  },
  {
   "cell_type": "code",
   "execution_count": 260,
   "metadata": {
    "executionInfo": {
     "elapsed": 6,
     "status": "ok",
     "timestamp": 1683808895877,
     "user": {
      "displayName": "Jonas Sun",
      "userId": "12770804660918315892"
     },
     "user_tz": -600
    },
    "id": "VF5oPzY1Rf3M"
   },
   "outputs": [],
   "source": [
    "# s21(2B) new reasons provided by Respondent: set all non-'Yes' values to 'No'\n",
    "df.loc[df['s21(2B) new reasons provided by Respondent'] != 'Yes', 's21(2B) new reasons provided by Respondent'] = 'No' "
   ]
  },
  {
   "cell_type": "code",
   "execution_count": 261,
   "metadata": {
    "executionInfo": {
     "elapsed": 17,
     "status": "ok",
     "timestamp": 1683808361642,
     "user": {
      "displayName": "Jonas Sun",
      "userId": "12770804660918315892"
     },
     "user_tz": -600
    },
    "id": "yok6S-I1R2pa"
   },
   "outputs": [],
   "source": [
    "# s22(4)(b) extension of time sought convert all non-'Yes' values to 'No'\n",
    "df.loc[df['s22(4)(b) extension of time sought'] != 'Yes', 's22(4)(b) extension of time sought'] = 'No' "
   ]
  },
  {
   "cell_type": "code",
   "execution_count": 262,
   "metadata": {},
   "outputs": [
    {
     "data": {
      "text/plain": [
       "No     246\n",
       "Yes     70\n",
       "Name: s22(4)(b) extension of time sought, dtype: int64"
      ]
     },
     "execution_count": 262,
     "metadata": {},
     "output_type": "execute_result"
    }
   ],
   "source": [
    "df['s22(4)(b) extension of time sought'].value_counts(dropna=False)"
   ]
  },
  {
   "cell_type": "code",
   "execution_count": 263,
   "metadata": {
    "colab": {
     "base_uri": "https://localhost:8080/"
    },
    "executionInfo": {
     "elapsed": 17,
     "status": "ok",
     "timestamp": 1683808361642,
     "user": {
      "displayName": "Jonas Sun",
      "userId": "12770804660918315892"
     },
     "user_tz": -600
    },
    "id": "KWY5YElhUv60",
    "outputId": "54d30df0-25c3-43ff-d91b-1fb59122ed8f"
   },
   "outputs": [
    {
     "name": "stderr",
     "output_type": "stream",
     "text": [
      "/Library/Frameworks/Python.framework/Versions/3.11/lib/python3.11/site-packages/numpy/core/fromnumeric.py:3156: VisibleDeprecationWarning: Creating an ndarray from ragged nested sequences (which is a list-or-tuple of lists-or-tuples-or ndarrays with different lengths or shapes) is deprecated. If you meant to do this, you must specify 'dtype=object' when creating the ndarray.\n",
      "  return asarray(a).ndim\n"
     ]
    }
   ],
   "source": [
    "# fix conflicted 'Determination released' data\n",
    "\n",
    "# has 'Determination released date' but 'Determination released' is NaN\n",
    "df.loc[(df['Determination released date'].notna()) & (df['Determination released'].isna()), 'Determination released'] = 'Yes'\n",
    "\n",
    "# 'Determination status' is 'Not determined' but 'Determination released' is 'Yes'\n",
    "df.loc[(df['Determination status'] == 'Not determined') & (df['Determination released'] == 'Yes'), 'Determination released'] = 'No'\n",
    "\n",
    "# 'Determination status' is 'Determined' but 'Determination released' is missing or 'No'\n",
    "det_no_release = df[(df['Determination status'] == 'Determined') & (df['Determination released'].isna())].index\n",
    "df.loc[det_no_release, ['Determination released', 'Determination released date']] = ['Yes', df.loc[det_no_release, 'Determination completion date']]\n",
    "\n",
    "# remove rows where information about determination is withheld\n",
    "df = df.drop(df.loc[df['Determination released'] == 'Not released', ].index)"
   ]
  },
  {
   "cell_type": "code",
   "execution_count": 264,
   "metadata": {
    "executionInfo": {
     "elapsed": 12,
     "status": "ok",
     "timestamp": 1683808361642,
     "user": {
      "displayName": "Jonas Sun",
      "userId": "12770804660918315892"
     },
     "user_tz": -600
    },
    "id": "ORD8cnI6z52Y"
   },
   "outputs": [],
   "source": [
    "# fix 'Determination released date'\n",
    "\n",
    "# set two rows where 'Determination released date' = 00-Jan-1900 to NA\n",
    "df.loc[df['Determination released date'] == datetime.time(0, 0), 'Determination released date'] = np.nan\n",
    "\n",
    "# set a wrongly formatted 'Determination released date': 1703/2022\n",
    "wrong_form_drd = df.loc[df['Determination released date'].apply(lambda x: type(x) != datetime.datetime and x is not np.nan), 'Determination released date']\n",
    "wfdrd_indexes, wfdrd_values = wrong_form_drd.index, wrong_form_drd.values\n",
    "cfdrd_values = [datetime.datetime(int(re.sub('\\D', '', entry)[4:]), int(re.sub('\\D', '', entry)[2:4]), int(re.sub('\\D', '', entry)[0:2]), 0, 0) for entry in wfdrd_values]\n",
    "df.loc[wfdrd_indexes, 'Determination released date'] = cfdrd_values"
   ]
  },
  {
   "cell_type": "code",
   "execution_count": 265,
   "metadata": {
    "executionInfo": {
     "elapsed": 12,
     "status": "ok",
     "timestamp": 1683808361642,
     "user": {
      "displayName": "Jonas Sun",
      "userId": "12770804660918315892"
     },
     "user_tz": -600
    },
    "id": "yzSOzDp2whKX"
   },
   "outputs": [],
   "source": [
    "# set row 264 missing determination completion date to the release date\n",
    "mis_det_comp_date = df[(df['Determination completion date'].isna()) & (df['Determination released date'].notna())].index\n",
    "df.loc[mis_det_comp_date, 'Determination completion date'] = df.loc[mis_det_comp_date, 'Determination released date']"
   ]
  },
  {
   "cell_type": "code",
   "execution_count": 266,
   "metadata": {
    "executionInfo": {
     "elapsed": 11,
     "status": "ok",
     "timestamp": 1683808361642,
     "user": {
      "displayName": "Jonas Sun",
      "userId": "12770804660918315892"
     },
     "user_tz": -600
    },
    "id": "zlYoVH9IH7T0"
   },
   "outputs": [],
   "source": [
    "# merge App.no 274 - 280, they are the same application\n",
    "# Currently don't have the skill to merge multiple application belong to a single case. So do it manually.\n",
    "df.loc[274, 'Claimed amount (ex GST)'] = sum(df.loc[274:280, 'Claimed amount (ex GST)'])\n",
    "df = df.drop(index = range(275, 281))"
   ]
  },
  {
   "cell_type": "code",
   "execution_count": 267,
   "metadata": {
    "colab": {
     "base_uri": "https://localhost:8080/",
     "height": 597
    },
    "executionInfo": {
     "elapsed": 11,
     "status": "ok",
     "timestamp": 1683808361642,
     "user": {
      "displayName": "Jonas Sun",
      "userId": "12770804660918315892"
     },
     "user_tz": -600
    },
    "id": "qLHE6k1bCV-n",
    "outputId": "1f67f8be-58ac-40d7-e028-dad7a0d0f0d0"
   },
   "outputs": [
    {
     "data": {
      "text/html": [
       "<div>\n",
       "<style scoped>\n",
       "    .dataframe tbody tr th:only-of-type {\n",
       "        vertical-align: middle;\n",
       "    }\n",
       "\n",
       "    .dataframe tbody tr th {\n",
       "        vertical-align: top;\n",
       "    }\n",
       "\n",
       "    .dataframe thead th {\n",
       "        text-align: right;\n",
       "    }\n",
       "</style>\n",
       "<table border=\"1\" class=\"dataframe\">\n",
       "  <thead>\n",
       "    <tr style=\"text-align: right;\">\n",
       "      <th></th>\n",
       "      <th>Application date</th>\n",
       "      <th>Acceptance date</th>\n",
       "      <th>Description of project and contract works</th>\n",
       "      <th>Project postcode</th>\n",
       "      <th>Claimed amount (ex GST)</th>\n",
       "      <th>Amount of Payment Schedule (ex GST)</th>\n",
       "      <th>Section of Act application made under</th>\n",
       "      <th>Business Type/Activity (Claimant)</th>\n",
       "      <th>Business Structure (Claimant)</th>\n",
       "      <th>Claimant advisers</th>\n",
       "      <th>...</th>\n",
       "      <th>Determination released date</th>\n",
       "      <th>Adjudicated amount (ex GST)</th>\n",
       "      <th>Total Adjudicator fee (ex GST)</th>\n",
       "      <th>Adjudicator's fee payable by Claimant %</th>\n",
       "      <th>Adjudicator's fee payable by Respondent %</th>\n",
       "      <th>Adjudicator's fee payable by Claimant (ex GST)</th>\n",
       "      <th>Adjudicator's fee payable by Respondent (ex GST)</th>\n",
       "      <th>Adjudication Certificate issued</th>\n",
       "      <th>Adjudication Certificate fee (ex GST)</th>\n",
       "      <th>Date Adjudication Certificate issued</th>\n",
       "    </tr>\n",
       "    <tr>\n",
       "      <th>No. of App.</th>\n",
       "      <th></th>\n",
       "      <th></th>\n",
       "      <th></th>\n",
       "      <th></th>\n",
       "      <th></th>\n",
       "      <th></th>\n",
       "      <th></th>\n",
       "      <th></th>\n",
       "      <th></th>\n",
       "      <th></th>\n",
       "      <th></th>\n",
       "      <th></th>\n",
       "      <th></th>\n",
       "      <th></th>\n",
       "      <th></th>\n",
       "      <th></th>\n",
       "      <th></th>\n",
       "      <th></th>\n",
       "      <th></th>\n",
       "      <th></th>\n",
       "      <th></th>\n",
       "    </tr>\n",
       "  </thead>\n",
       "  <tbody>\n",
       "    <tr>\n",
       "      <th>89</th>\n",
       "      <td>2021-09-19</td>\n",
       "      <td>2021-09-22</td>\n",
       "      <td>Rendering</td>\n",
       "      <td>3802</td>\n",
       "      <td>19725.45</td>\n",
       "      <td>0.0</td>\n",
       "      <td>s.18(1)(b)</td>\n",
       "      <td>Consultant</td>\n",
       "      <td>Sole Trader</td>\n",
       "      <td>None</td>\n",
       "      <td>...</td>\n",
       "      <td>2021-09-23 00:00:00</td>\n",
       "      <td>0</td>\n",
       "      <td>NaN</td>\n",
       "      <td>NaN</td>\n",
       "      <td>NaN</td>\n",
       "      <td>NaN</td>\n",
       "      <td>NaN</td>\n",
       "      <td>NaN</td>\n",
       "      <td>NaN</td>\n",
       "      <td>NaN</td>\n",
       "    </tr>\n",
       "    <tr>\n",
       "      <th>208</th>\n",
       "      <td>2022-03-16</td>\n",
       "      <td>2022-03-21</td>\n",
       "      <td>Data Cabling</td>\n",
       "      <td>3010</td>\n",
       "      <td>34175.33</td>\n",
       "      <td>NaN</td>\n",
       "      <td>s.18(1)(b)</td>\n",
       "      <td>Other</td>\n",
       "      <td>Pty Ltd Company</td>\n",
       "      <td>None</td>\n",
       "      <td>...</td>\n",
       "      <td>2022-03-29 00:00:00</td>\n",
       "      <td>0</td>\n",
       "      <td>NaN</td>\n",
       "      <td>NaN</td>\n",
       "      <td>NaN</td>\n",
       "      <td>NaN</td>\n",
       "      <td>NaN</td>\n",
       "      <td>NaN</td>\n",
       "      <td>NaN</td>\n",
       "      <td>NaN</td>\n",
       "    </tr>\n",
       "    <tr>\n",
       "      <th>209</th>\n",
       "      <td>2022-03-16</td>\n",
       "      <td>2022-03-22</td>\n",
       "      <td>Framing</td>\n",
       "      <td>3032</td>\n",
       "      <td>58040.00</td>\n",
       "      <td>1.0</td>\n",
       "      <td>s.18(1)(a)(i)</td>\n",
       "      <td>Trade subcontractor</td>\n",
       "      <td>Pty Ltd Company</td>\n",
       "      <td>None</td>\n",
       "      <td>...</td>\n",
       "      <td>2022-04-05 00:00:00</td>\n",
       "      <td>55040</td>\n",
       "      <td>NaN</td>\n",
       "      <td>NaN</td>\n",
       "      <td>NaN</td>\n",
       "      <td>NaN</td>\n",
       "      <td>NaN</td>\n",
       "      <td>NaN</td>\n",
       "      <td>NaN</td>\n",
       "      <td>NaN</td>\n",
       "    </tr>\n",
       "    <tr>\n",
       "      <th>253</th>\n",
       "      <td>2022-04-14</td>\n",
       "      <td>2022-04-21</td>\n",
       "      <td>Mechanical Services</td>\n",
       "      <td>3066</td>\n",
       "      <td>38948.00</td>\n",
       "      <td>18765.0</td>\n",
       "      <td>s.18(1)(a)(i)</td>\n",
       "      <td>Trade subcontractor</td>\n",
       "      <td>Pty Ltd Company</td>\n",
       "      <td>None</td>\n",
       "      <td>...</td>\n",
       "      <td>2022-05-09 00:00:00</td>\n",
       "      <td>0</td>\n",
       "      <td>NaN</td>\n",
       "      <td>NaN</td>\n",
       "      <td>NaN</td>\n",
       "      <td>NaN</td>\n",
       "      <td>NaN</td>\n",
       "      <td>No</td>\n",
       "      <td>NaN</td>\n",
       "      <td>NaN</td>\n",
       "    </tr>\n",
       "    <tr>\n",
       "      <th>264</th>\n",
       "      <td>2022-04-26</td>\n",
       "      <td>2022-04-29</td>\n",
       "      <td>Provision Of Carpentry</td>\n",
       "      <td>3793</td>\n",
       "      <td>12480.00</td>\n",
       "      <td>NaN</td>\n",
       "      <td>s.18(1)(b)</td>\n",
       "      <td>Trade subcontractor</td>\n",
       "      <td>Pty Ltd Company</td>\n",
       "      <td>None</td>\n",
       "      <td>...</td>\n",
       "      <td>2022-05-06 00:00:00</td>\n",
       "      <td>0</td>\n",
       "      <td>NaN</td>\n",
       "      <td>NaN</td>\n",
       "      <td>NaN</td>\n",
       "      <td>NaN</td>\n",
       "      <td>NaN</td>\n",
       "      <td>No</td>\n",
       "      <td>NaN</td>\n",
       "      <td>NaN</td>\n",
       "    </tr>\n",
       "    <tr>\n",
       "      <th>274</th>\n",
       "      <td>2022-05-03</td>\n",
       "      <td>2022-05-09</td>\n",
       "      <td>Provision of carpentry labour at various sites...</td>\n",
       "      <td>3089</td>\n",
       "      <td>14619.09</td>\n",
       "      <td>NaN</td>\n",
       "      <td>s.18(1)(b)</td>\n",
       "      <td>Trade subcontractor</td>\n",
       "      <td>Sole Trader</td>\n",
       "      <td>None</td>\n",
       "      <td>...</td>\n",
       "      <td>2022-05-13 00:00:00</td>\n",
       "      <td>0</td>\n",
       "      <td>NaN</td>\n",
       "      <td>NaN</td>\n",
       "      <td>NaN</td>\n",
       "      <td>NaN</td>\n",
       "      <td>NaN</td>\n",
       "      <td>No</td>\n",
       "      <td>NaN</td>\n",
       "      <td>NaN</td>\n",
       "    </tr>\n",
       "  </tbody>\n",
       "</table>\n",
       "<p>6 rows × 29 columns</p>\n",
       "</div>"
      ],
      "text/plain": [
       "            Application date Acceptance date  \\\n",
       "No. of App.                                    \n",
       "89                2021-09-19      2021-09-22   \n",
       "208               2022-03-16      2022-03-21   \n",
       "209               2022-03-16      2022-03-22   \n",
       "253               2022-04-14      2022-04-21   \n",
       "264               2022-04-26      2022-04-29   \n",
       "274               2022-05-03      2022-05-09   \n",
       "\n",
       "                     Description of project and contract works  \\\n",
       "No. of App.                                                      \n",
       "89                                                   Rendering   \n",
       "208                                              Data Cabling    \n",
       "209                                                    Framing   \n",
       "253                                       Mechanical Services    \n",
       "264                                    Provision Of Carpentry    \n",
       "274          Provision of carpentry labour at various sites...   \n",
       "\n",
       "            Project postcode  Claimed amount (ex GST)  \\\n",
       "No. of App.                                             \n",
       "89                      3802                 19725.45   \n",
       "208                     3010                 34175.33   \n",
       "209                     3032                 58040.00   \n",
       "253                     3066                 38948.00   \n",
       "264                     3793                 12480.00   \n",
       "274                     3089                 14619.09   \n",
       "\n",
       "             Amount of Payment Schedule (ex GST)  \\\n",
       "No. of App.                                        \n",
       "89                                           0.0   \n",
       "208                                          NaN   \n",
       "209                                          1.0   \n",
       "253                                      18765.0   \n",
       "264                                          NaN   \n",
       "274                                          NaN   \n",
       "\n",
       "            Section of Act application made under  \\\n",
       "No. of App.                                         \n",
       "89                                     s.18(1)(b)   \n",
       "208                                    s.18(1)(b)   \n",
       "209                                 s.18(1)(a)(i)   \n",
       "253                                 s.18(1)(a)(i)   \n",
       "264                                    s.18(1)(b)   \n",
       "274                                    s.18(1)(b)   \n",
       "\n",
       "            Business Type/Activity (Claimant) Business Structure (Claimant)  \\\n",
       "No. of App.                                                                   \n",
       "89                                 Consultant                   Sole Trader   \n",
       "208                                     Other               Pty Ltd Company   \n",
       "209                       Trade subcontractor               Pty Ltd Company   \n",
       "253                       Trade subcontractor               Pty Ltd Company   \n",
       "264                       Trade subcontractor               Pty Ltd Company   \n",
       "274                       Trade subcontractor                   Sole Trader   \n",
       "\n",
       "            Claimant advisers  ... Determination released date  \\\n",
       "No. of App.                    ...                               \n",
       "89                       None  ...         2021-09-23 00:00:00   \n",
       "208                      None  ...         2022-03-29 00:00:00   \n",
       "209                      None  ...         2022-04-05 00:00:00   \n",
       "253                      None  ...         2022-05-09 00:00:00   \n",
       "264                      None  ...         2022-05-06 00:00:00   \n",
       "274                      None  ...         2022-05-13 00:00:00   \n",
       "\n",
       "            Adjudicated amount (ex GST) Total Adjudicator fee (ex GST)  \\\n",
       "No. of App.                                                              \n",
       "89                                    0                            NaN   \n",
       "208                                   0                            NaN   \n",
       "209                               55040                            NaN   \n",
       "253                                   0                            NaN   \n",
       "264                                   0                            NaN   \n",
       "274                                   0                            NaN   \n",
       "\n",
       "            Adjudicator's fee payable by Claimant %  \\\n",
       "No. of App.                                           \n",
       "89                                              NaN   \n",
       "208                                             NaN   \n",
       "209                                             NaN   \n",
       "253                                             NaN   \n",
       "264                                             NaN   \n",
       "274                                             NaN   \n",
       "\n",
       "            Adjudicator's fee payable by Respondent %  \\\n",
       "No. of App.                                             \n",
       "89                                                NaN   \n",
       "208                                               NaN   \n",
       "209                                               NaN   \n",
       "253                                               NaN   \n",
       "264                                               NaN   \n",
       "274                                               NaN   \n",
       "\n",
       "            Adjudicator's fee payable by Claimant (ex GST)  \\\n",
       "No. of App.                                                  \n",
       "89                                                     NaN   \n",
       "208                                                    NaN   \n",
       "209                                                    NaN   \n",
       "253                                                    NaN   \n",
       "264                                                    NaN   \n",
       "274                                                    NaN   \n",
       "\n",
       "            Adjudicator's fee payable by Respondent (ex GST)  \\\n",
       "No. of App.                                                    \n",
       "89                                                       NaN   \n",
       "208                                                      NaN   \n",
       "209                                                      NaN   \n",
       "253                                                      NaN   \n",
       "264                                                      NaN   \n",
       "274                                                      NaN   \n",
       "\n",
       "            Adjudication Certificate issued  \\\n",
       "No. of App.                                   \n",
       "89                                      NaN   \n",
       "208                                     NaN   \n",
       "209                                     NaN   \n",
       "253                                      No   \n",
       "264                                      No   \n",
       "274                                      No   \n",
       "\n",
       "            Adjudication Certificate fee (ex GST)  \\\n",
       "No. of App.                                         \n",
       "89                                            NaN   \n",
       "208                                           NaN   \n",
       "209                                           NaN   \n",
       "253                                           NaN   \n",
       "264                                           NaN   \n",
       "274                                           NaN   \n",
       "\n",
       "            Date Adjudication Certificate issued  \n",
       "No. of App.                                       \n",
       "89                                           NaN  \n",
       "208                                          NaN  \n",
       "209                                          NaN  \n",
       "253                                          NaN  \n",
       "264                                          NaN  \n",
       "274                                          NaN  \n",
       "\n",
       "[6 rows x 29 columns]"
      ]
     },
     "execution_count": 267,
     "metadata": {},
     "output_type": "execute_result"
    }
   ],
   "source": [
    "# fix cases where 'Determination status' is 'Determined' but no information about adjudicator fees\n",
    "df.loc[(df['Determination status'] == 'Determined') & (df[\"Adjudicator's fee payable by Claimant %\"].isna()), ]\n",
    "# actual missing data, won't do anything to it, just leave it missing"
   ]
  },
  {
   "cell_type": "code",
   "execution_count": 268,
   "metadata": {
    "colab": {
     "base_uri": "https://localhost:8080/"
    },
    "executionInfo": {
     "elapsed": 11,
     "status": "ok",
     "timestamp": 1683808361642,
     "user": {
      "displayName": "Jonas Sun",
      "userId": "12770804660918315892"
     },
     "user_tz": -600
    },
    "id": "tBnJpVJyA0Mr",
    "outputId": "5f8a07f0-51a5-467f-c115-7ef6ca0f5d97"
   },
   "outputs": [
    {
     "data": {
      "text/plain": [
       "(307, 29)"
      ]
     },
     "execution_count": 268,
     "metadata": {},
     "output_type": "execute_result"
    }
   ],
   "source": [
    "df.shape"
   ]
  },
  {
   "cell_type": "code",
   "execution_count": 269,
   "metadata": {
    "executionInfo": {
     "elapsed": 6,
     "status": "ok",
     "timestamp": 1683808361642,
     "user": {
      "displayName": "Jonas Sun",
      "userId": "12770804660918315892"
     },
     "user_tz": -600
    },
    "id": "IF6qD-XtB7FN"
   },
   "outputs": [],
   "source": [
    "# fix 'Date Adjudication Certificate issued' , fill in NaT to blank entry \n",
    "# pd.to_datetime(df['Date Adjudication Certificate issued'], errors='coerce')\n",
    "df.loc[df['Date Adjudication Certificate issued'] == 'M/A', 'Date Adjudication Certificate issued'] = np.nan"
   ]
  },
  {
   "cell_type": "code",
   "execution_count": 270,
   "metadata": {
    "executionInfo": {
     "elapsed": 6,
     "status": "ok",
     "timestamp": 1683808361642,
     "user": {
      "displayName": "Jonas Sun",
      "userId": "12770804660918315892"
     },
     "user_tz": -600
    },
    "id": "aeO4NfJe74f4"
   },
   "outputs": [],
   "source": [
    "# fill certificate issued but no fee row with mode of certificate fee\n",
    "df.loc[(df['Date Adjudication Certificate issued'].isna()) ^ (df['Adjudication Certificate fee (ex GST)'].isna()), 'Adjudication Certificate fee (ex GST)'] = df['Adjudication Certificate fee (ex GST)'].mode()"
   ]
  },
  {
   "cell_type": "code",
   "execution_count": 271,
   "metadata": {
    "executionInfo": {
     "elapsed": 523,
     "status": "ok",
     "timestamp": 1683808362159,
     "user": {
      "displayName": "Jonas Sun",
      "userId": "12770804660918315892"
     },
     "user_tz": -600
    },
    "id": "XzVBnst60yyx"
   },
   "outputs": [],
   "source": [
    "# change those cases not determined's adjudicated amount from 0 to nan\n",
    "df.loc[(df['Determination status'] == 'Not determined') & (df['Adjudicated amount (ex GST)'] == 0), 'Adjudicated amount (ex GST)'] = np.nan"
   ]
  },
  {
   "cell_type": "code",
   "execution_count": 272,
   "metadata": {},
   "outputs": [],
   "source": [
    "# change amount of payment schedule amount of NA to 0 to facilitate log transformation that's used later\n",
    "df.loc[df['Amount of Payment Schedule (ex GST)'].isna(), 'Amount of Payment Schedule (ex GST)'] = 0"
   ]
  },
  {
   "cell_type": "code",
   "execution_count": 275,
   "metadata": {},
   "outputs": [
    {
     "name": "stderr",
     "output_type": "stream",
     "text": [
      "/Library/Frameworks/Python.framework/Versions/3.11/lib/python3.11/site-packages/openpyxl/reader/workbook.py:118: UserWarning: Print area cannot be set to Defined name: Place_Names_Electronic!$A:$K.\n",
      "  warn(f\"Print area cannot be set to Defined name: {defn.value}.\")\n"
     ]
    }
   ],
   "source": [
    "# Extract infomration from postcode\n",
    "# currently postcode has more than 130 categories which is too granular for the size of our dataset, only a little more than 300\n",
    "# decide to categorise them to broader classes based on the classification used by victorian government to classify electors by locality\n",
    "\n",
    "df_locality = pd.read_excel(\"./assg2/LocalityFinder_Sep22.xlsx\", header=2)\n",
    "locality_col = df_locality.columns.values\n",
    "locality_col = [re.sub(\"_x000D_\\n\", \" \", x) for x in locality_col]\n",
    "df_locality.columns = locality_col\n",
    "\n",
    "def extr_reg(postcode):\n",
    "    # extracts the region name given a postcode\n",
    "    # if a postcode has multiple regions, the mode is used\n",
    "    return df_locality.loc[df_locality['Post Code'] == int(postcode), 'Region Name'].mode()\n",
    "\n",
    "df['Region name'] = df['Project postcode'].apply(extr_reg).loc[:, 0]\n",
    "\n",
    "# unfortunately, 3010 is absent from our elector locality dataset, so we have to manually set it based on our knowledge\n",
    "df.loc[df['Project postcode'] == 3010, 'Region name'] = 'Northern Metropolitan'"
   ]
  },
  {
   "cell_type": "code",
   "execution_count": 276,
   "metadata": {},
   "outputs": [],
   "source": [
    "# process and vectorize the 'Description of project and contract works' column to get ready for classification\n",
    "def preprocess_desc(desc):\n",
    "    res = desc.lower()\n",
    "    res = re.sub('[^\\w\\d ]', '', res)\n",
    "    res = res.split(' ')\n",
    "    \n",
    "    stop_words = set(stopwords.words('english'))\n",
    "    res = [word for word in res if word not in stop_words]\n",
    "\n",
    "    porterStemmer = PorterStemmer()\n",
    "    stemmed_tokens = [porterStemmer.stem(word) for word in res]\n",
    "    \n",
    "    return ' '.join(res)\n",
    "    \n",
    "df['Description of work processed'] = df['Description of project and contract works'].apply(preprocess_desc)"
   ]
  },
  {
   "cell_type": "code",
   "execution_count": 277,
   "metadata": {},
   "outputs": [],
   "source": [
    "vectorizer = CountVectorizer()\n",
    "bow = vectorizer.fit_transform(df['Description of work processed'])\n",
    "vocabulary = vectorizer.get_feature_names_out()\n",
    "normalisedBow = Normalizer(norm='max').fit_transform(bow).toarray()"
   ]
  },
  {
   "cell_type": "code",
   "execution_count": 278,
   "metadata": {
    "scrolled": true
   },
   "outputs": [
    {
     "name": "stderr",
     "output_type": "stream",
     "text": [
      "/Library/Frameworks/Python.framework/Versions/3.11/lib/python3.11/site-packages/sklearn/cluster/_kmeans.py:870: FutureWarning: The default value of `n_init` will change from 10 to 'auto' in 1.4. Set the value of `n_init` explicitly to suppress the warning\n",
      "  warnings.warn(\n"
     ]
    }
   ],
   "source": [
    "clusters = KMeans(n_clusters=7)\n",
    "clusters.fit(normalisedBow)\n",
    "df['Work category'] = clusters.labels_"
   ]
  },
  {
   "cell_type": "code",
   "execution_count": 279,
   "metadata": {},
   "outputs": [
    {
     "data": {
      "image/png": "[encoded data removed]",
      "text/plain": [
       "<Figure size 800x700 with 2 Axes>"
      ]
     },
     "metadata": {},
     "output_type": "display_data"
    }
   ],
   "source": [
    "# Plot VAT\n",
    "RV, _, I = VAT(normalisedBow) # I are the reordered indices\n",
    "\n",
    "plt.figure(figsize=(8, 7))\n",
    "sns.heatmap(RV, cmap='gray')\n",
    "plt.title(\"VAT\")\n",
    "\n",
    "plt.show()"
   ]
  },
  {
   "cell_type": "markdown",
   "metadata": {
    "id": "edbP9V11YFrF"
   },
   "source": [
    "### assigning right data type to the columns"
   ]
  },
  {
   "cell_type": "code",
   "execution_count": 280,
   "metadata": {
    "executionInfo": {
     "elapsed": 24,
     "status": "ok",
     "timestamp": 1683808362159,
     "user": {
      "displayName": "Jonas Sun",
      "userId": "12770804660918315892"
     },
     "user_tz": -600
    },
    "id": "AtMvtdEdB86d"
   },
   "outputs": [],
   "source": [
    "# specifying the correct data type for each column, the auto configuration by pandas is not accurate because some errors in the dataset\n",
    "# pandas data types: object, int64, float64, bool, datetime64(ns), timedelta(ns), category\n",
    "INDEX = 'No. of App.'\n",
    "FLOAT64 = [\n",
    "    'Claimed amount (ex GST)', 'Amount of Payment Schedule (ex GST)', 'Adjudicated amount (ex GST)', 'Total Adjudicator fee (ex GST)',\n",
    "    \"Adjudicator's fee payable by Claimant %\", \"Adjudicator's fee payable by Respondent %\",\n",
    "    \"Adjudicator's fee payable by Claimant (ex GST)\", \"Adjudicator's fee payable by Respondent (ex GST)\", \n",
    "    'Adjudication Certificate fee (ex GST)'\n",
    "]\n",
    "\n",
    "CATEGORY = [\n",
    "    'Work category', 'Region name', 'Section of Act application made under', \n",
    "    'Business Type/Activity (Claimant)', 'Business Structure (Claimant)', 'Claimant advisers',\n",
    "    'Business Type/Activity (Respondent)', 'Business Structure (Respondent)', 'Respondent advisers',\n",
    "    'Determination status', 'Reasons if the application is not determined', 's21(2B) new reasons provided by Respondent',\n",
    "    's22(4)(b) extension of time sought', 'Determination released', 'Adjudication Certificate issued'\n",
    "]\n",
    "\n",
    "OBJECT = [\n",
    "    'Description of project and contract works', 'Project postcode'\n",
    "]\n",
    "\n",
    "DATETIME64 = [\n",
    "    'Application date', 'Acceptance date', 'Determination completion date', 'Determination released date', 'Date Adjudication Certificate issued'\n",
    "]"
   ]
  },
  {
   "cell_type": "code",
   "execution_count": 281,
   "metadata": {
    "executionInfo": {
     "elapsed": 17,
     "status": "ok",
     "timestamp": 1683808362159,
     "user": {
      "displayName": "Jonas Sun",
      "userId": "12770804660918315892"
     },
     "user_tz": -600
    },
    "id": "47nrl1PdYRf9"
   },
   "outputs": [],
   "source": [
    "# convert other columns to the correct type\n",
    "for col in FLOAT64:\n",
    "  df[col] = df[col].astype('float64')\n",
    "for col in CATEGORY:\n",
    "  df[col] = df[col].astype('category')\n",
    "for col in OBJECT:\n",
    "  df[col] = df[col].astype('object')\n",
    "for col in DATETIME64:\n",
    "  df[col] = df[col].astype('datetime64[ns]')"
   ]
  },
  {
   "cell_type": "code",
   "execution_count": 282,
   "metadata": {
    "colab": {
     "base_uri": "https://localhost:8080/"
    },
    "executionInfo": {
     "elapsed": 17,
     "status": "ok",
     "timestamp": 1683808362159,
     "user": {
      "displayName": "Jonas Sun",
      "userId": "12770804660918315892"
     },
     "user_tz": -600
    },
    "id": "9DTmXMVMXr7W",
    "outputId": "ff2d139a-5271-47d8-b21e-c3c003241741"
   },
   "outputs": [
    {
     "data": {
      "text/plain": [
       "Application date                                    datetime64[ns]\n",
       "Acceptance date                                     datetime64[ns]\n",
       "Description of project and contract works                   object\n",
       "Project postcode                                            object\n",
       "Claimed amount (ex GST)                                    float64\n",
       "Amount of Payment Schedule (ex GST)                        float64\n",
       "Section of Act application made under                     category\n",
       "Business Type/Activity (Claimant)                         category\n",
       "Business Structure (Claimant)                             category\n",
       "Claimant advisers                                         category\n",
       "Business Type/Activity (Respondent)                       category\n",
       "Business Structure (Respondent)                           category\n",
       "Respondent advisers                                       category\n",
       "Determination status                                      category\n",
       "Determination completion date                       datetime64[ns]\n",
       "Reasons if the application is not determined              category\n",
       "s21(2B) new reasons provided by Respondent                category\n",
       "s22(4)(b) extension of time sought                        category\n",
       "Determination released                                    category\n",
       "Determination released date                         datetime64[ns]\n",
       "Adjudicated amount (ex GST)                                float64\n",
       "Total Adjudicator fee (ex GST)                             float64\n",
       "Adjudicator's fee payable by Claimant %                    float64\n",
       "Adjudicator's fee payable by Respondent %                  float64\n",
       "Adjudicator's fee payable by Claimant (ex GST)             float64\n",
       "Adjudicator's fee payable by Respondent (ex GST)           float64\n",
       "Adjudication Certificate issued                           category\n",
       "Adjudication Certificate fee (ex GST)                      float64\n",
       "Date Adjudication Certificate issued                datetime64[ns]\n",
       "Region name                                               category\n",
       "Description of work processed                               object\n",
       "Work category                                             category\n",
       "dtype: object"
      ]
     },
     "execution_count": 282,
     "metadata": {},
     "output_type": "execute_result"
    }
   ],
   "source": [
    "df.dtypes"
   ]
  },
  {
   "cell_type": "code",
   "execution_count": 283,
   "metadata": {
    "executionInfo": {
     "elapsed": 12,
     "status": "ok",
     "timestamp": 1683808362160,
     "user": {
      "displayName": "Jonas Sun",
      "userId": "12770804660918315892"
     },
     "user_tz": -600
    },
    "id": "u9RFF5AtXSuZ"
   },
   "outputs": [],
   "source": [
    "# Need to differentiate between before the fact information and after the fact information.  \n",
    "# Fact here being the determination of the adjudication.\n",
    "\n",
    "BEFORE = [\n",
    "    'Application date', 'Acceptance date', 'Description of project and contract works', 'Work category', \n",
    "    'Project postcode', 'Region name', 'Claimed amount (ex GST)', 'Log claimed amount', \n",
    "    'Amount of Payment Schedule (ex GST)', 'Log payment schedule amount', 'Section of Act application made under',\n",
    "    'Business Type/Activity (Claimant)', 'Business Structure (Claimant)', 'Claimant advisers',\n",
    "    'Business Type/Activity (Respondent)', 'Business Structure (Respondent)', 'Respondent advisers',\n",
    "    's21(2B) new reasons provided by Respondent', 's22(4)(b) extension of time sought'\n",
    "]\n",
    "\n",
    "FACT = [\n",
    "    'Determination status', 'Determination completion date', 'Reasons if the application if not determined', 'Determination released',\n",
    "    'Determination released date'\n",
    "]\n",
    "\n",
    "AFTER = [\n",
    "    'Adjudicated amount (ex GST)', 'Total Adjudicator fee (ex GST)', \"Adjudicator's fee payable by Claimant %\",\n",
    "    \"Adjudicator's fee payable by Respondent %\", \"Adjudicator's fee payable by Claimant (ex GST)\", \"Adjudicator's fee payable by Respondent (ex GST)\",\n",
    "    'Adjudication Certificate issued', \n",
    "    'Adjudication Certificate fee (ex GST)', 'Date Adjudication Certificate issued'\n",
    "]"
   ]
  },
  {
   "cell_type": "markdown",
   "metadata": {
    "id": "cSLgHpmhJrM1"
   },
   "source": [
    "# Rudimentary Data Analysis"
   ]
  },
  {
   "cell_type": "code",
   "execution_count": 284,
   "metadata": {
    "colab": {
     "base_uri": "https://localhost:8080/"
    },
    "executionInfo": {
     "elapsed": 12,
     "status": "ok",
     "timestamp": 1683808362160,
     "user": {
      "displayName": "Jonas Sun",
      "userId": "12770804660918315892"
     },
     "user_tz": -600
    },
    "id": "BYKd4pReb_rn",
    "outputId": "1abeafa9-f650-4664-b2b9-bf681a2f0c97"
   },
   "outputs": [
    {
     "data": {
      "text/plain": [
       "Index(['Application date', 'Acceptance date',\n",
       "       'Description of project and contract works', 'Project postcode',\n",
       "       'Claimed amount (ex GST)', 'Amount of Payment Schedule (ex GST)',\n",
       "       'Section of Act application made under',\n",
       "       'Business Type/Activity (Claimant)', 'Business Structure (Claimant)',\n",
       "       'Claimant advisers', 'Business Type/Activity (Respondent)',\n",
       "       'Business Structure (Respondent)', 'Respondent advisers',\n",
       "       'Determination status', 'Determination completion date',\n",
       "       'Reasons if the application is not determined',\n",
       "       's21(2B) new reasons provided by Respondent',\n",
       "       's22(4)(b) extension of time sought', 'Determination released',\n",
       "       'Determination released date', 'Adjudicated amount (ex GST)',\n",
       "       'Total Adjudicator fee (ex GST)',\n",
       "       'Adjudicator's fee payable by Claimant %',\n",
       "       'Adjudicator's fee payable by Respondent %',\n",
       "       'Adjudicator's fee payable by Claimant (ex GST)',\n",
       "       'Adjudicator's fee payable by Respondent (ex GST)',\n",
       "       'Adjudication Certificate issued',\n",
       "       'Adjudication Certificate fee (ex GST)',\n",
       "       'Date Adjudication Certificate issued', 'Region name',\n",
       "       'Description of work processed', 'Work category'],\n",
       "      dtype='object')"
      ]
     },
     "execution_count": 284,
     "metadata": {},
     "output_type": "execute_result"
    }
   ],
   "source": [
    "df.columns"
   ]
  },
  {
   "cell_type": "markdown",
   "metadata": {
    "id": "MgsgP4qobrfA"
   },
   "source": [
    "## To do list\n",
    "\n",
    "- [x] adding columns to facilitate our analysis\n",
    "  - [x] Calculate business day intervals before dates\n",
    "  - [x] add adjudicated ratio, which will be our main response variable in supervised ML\n",
    "- [x] NLP to decide whether work done is covered in SOP\n",
    "- [x] determination ratio of SOP during the period"
   ]
  },
  {
   "cell_type": "code",
   "execution_count": 285,
   "metadata": {
    "executionInfo": {
     "elapsed": 6,
     "status": "ok",
     "timestamp": 1683808362160,
     "user": {
      "displayName": "Jonas Sun",
      "userId": "12770804660918315892"
     },
     "user_tz": -600
    },
    "id": "pnzHfvwniVNF"
   },
   "outputs": [],
   "source": [
    "df['Adjudicate ratio'] = df['Adjudicated amount (ex GST)'] / df['Claimed amount (ex GST)']"
   ]
  },
  {
   "cell_type": "code",
   "execution_count": 286,
   "metadata": {
    "scrolled": false
   },
   "outputs": [
    {
     "name": "stderr",
     "output_type": "stream",
     "text": [
      "/Library/Frameworks/Python.framework/Versions/3.11/lib/python3.11/site-packages/pandas/core/arraylike.py:402: RuntimeWarning: invalid value encountered in log\n",
      "  result = getattr(ufunc, method)(*inputs, **kwargs)\n"
     ]
    }
   ],
   "source": [
    "# Claimed amount has a very wide range and the higher values are in different magnitudes than rest of others, it seems appropriate to perform a log transformation to it\n",
    "df['Log claimed amount'] = np.log(df['Claimed amount (ex GST)'] + 1)\n",
    "df['Log payment schedule amount'] = np.log(df['Amount of Payment Schedule (ex GST)'] + 1)"
   ]
  },
  {
   "cell_type": "code",
   "execution_count": 287,
   "metadata": {
    "executionInfo": {
     "elapsed": 6,
     "status": "ok",
     "timestamp": 1683808362160,
     "user": {
      "displayName": "Jonas Sun",
      "userId": "12770804660918315892"
     },
     "user_tz": -600
    },
    "id": "vZxqz-PsXHMb"
   },
   "outputs": [],
   "source": [
    "# divide data set into 2 groups based on whether determination is reached\n",
    "# only those that are determined has an adjudicated amount and can be used to fit the model\n",
    "\n",
    "df_det = df[df['Determination status'] == 'Determined'].copy(deep=True)\n",
    "df_not_det = df[df['Determination status'] == 'Not determined'].copy(deep=True)"
   ]
  },
  {
   "cell_type": "markdown",
   "metadata": {
    "id": "hMBxNFVpytrl"
   },
   "source": [
    "### Calculate business day intervals"
   ]
  },
  {
   "cell_type": "code",
   "execution_count": 288,
   "metadata": {
    "executionInfo": {
     "elapsed": 6,
     "status": "ok",
     "timestamp": 1683808362160,
     "user": {
      "displayName": "Jonas Sun",
      "userId": "12770804660918315892"
     },
     "user_tz": -600
    },
    "id": "6WBwktCt8lHN"
   },
   "outputs": [],
   "source": [
    "#Load the Victorian public holidays\n",
    "vic_holidays_2021 = holidays.Australia(years=2021, prov='VIC')\n",
    "vic_holidays_2022 = holidays.Australia(years=2022, prov='VIC')\n",
    "\n",
    "#Convert them into lists for just the dates\n",
    "holiday_dates_2021 = list(vic_holidays_2021.keys())\n",
    "holiday_dates_2022 = list(vic_holidays_2022.keys())\n",
    "\n",
    "#Create a range of dates for the two years\n",
    "date_range = pd.date_range(start=datetime.datetime(2021, 1, 1), end=datetime.datetime(2022, 12, 31))\n",
    "\n",
    "#Filter out the weekends (Saturday and Sunday)\n",
    "weekends = date_range[date_range.weekday.isin([5, 6])].date\n",
    "\n",
    "#Create a full list of days that do not count as business days\n",
    "vic_holidays = sorted(list(set(holiday_dates_2021 + holiday_dates_2022 + list(weekends))))\n"
   ]
  },
  {
   "cell_type": "code",
   "execution_count": 289,
   "metadata": {
    "colab": {
     "base_uri": "https://localhost:8080/",
     "height": 854
    },
    "executionInfo": {
     "elapsed": 6,
     "status": "ok",
     "timestamp": 1683808362160,
     "user": {
      "displayName": "Jonas Sun",
      "userId": "12770804660918315892"
     },
     "user_tz": -600
    },
    "id": "pY9GOHUsN5CL",
    "outputId": "96a9a397-3ee6-46fa-b19e-05562754d591"
   },
   "outputs": [],
   "source": [
    "def calculate_business_days(start_date, end_date):\n",
    "\n",
    "    \"Calculates the number of business days between any two given dates\"\n",
    "    \n",
    "    # Generate a range of dates\n",
    "    date_range = pd.date_range(start=start_date, end=end_date).date\n",
    "\n",
    "    # Filter out all the holidays\n",
    "    holidays = [date for date in date_range if date in vic_holidays]\n",
    "\n",
    "    # Calculate the number of business days\n",
    "    business_days = len(date_range) - len(holidays)\n",
    "    return business_days\n",
    "\n",
    "# Calculate the number of business days between the dates\n",
    "df_det['Business Days between Application and Acceptance'] = df_det.apply(lambda row: calculate_business_days(row['Application date'], row['Acceptance date']), axis=1)\n",
    "df_det['Business Days between Acceptance and Completion'] = df_det.apply(lambda row: calculate_business_days(row['Acceptance date'], row['Determination completion date']), axis=1)\n",
    "df_det['Business Days between Completion and Release'] = df_det.apply(lambda row: calculate_business_days(row['Determination completion date'], row['Determination released date']), axis=1)\n"
   ]
  },
  {
   "cell_type": "code",
   "execution_count": 290,
   "metadata": {},
   "outputs": [
    {
     "data": {
      "text/plain": [
       "Index(['Application date', 'Acceptance date',\n",
       "       'Description of project and contract works', 'Project postcode',\n",
       "       'Claimed amount (ex GST)', 'Amount of Payment Schedule (ex GST)',\n",
       "       'Section of Act application made under',\n",
       "       'Business Type/Activity (Claimant)', 'Business Structure (Claimant)',\n",
       "       'Claimant advisers', 'Business Type/Activity (Respondent)',\n",
       "       'Business Structure (Respondent)', 'Respondent advisers',\n",
       "       'Determination status', 'Determination completion date',\n",
       "       'Reasons if the application is not determined',\n",
       "       's21(2B) new reasons provided by Respondent',\n",
       "       's22(4)(b) extension of time sought', 'Determination released',\n",
       "       'Determination released date', 'Adjudicated amount (ex GST)',\n",
       "       'Total Adjudicator fee (ex GST)',\n",
       "       'Adjudicator's fee payable by Claimant %',\n",
       "       'Adjudicator's fee payable by Respondent %',\n",
       "       'Adjudicator's fee payable by Claimant (ex GST)',\n",
       "       'Adjudicator's fee payable by Respondent (ex GST)',\n",
       "       'Adjudication Certificate issued',\n",
       "       'Adjudication Certificate fee (ex GST)',\n",
       "       'Date Adjudication Certificate issued', 'Region name',\n",
       "       'Description of work processed', 'Work category', 'Adjudicate ratio',\n",
       "       'Log claimed amount', 'Log payment schedule amount',\n",
       "       'Business Days between Application and Acceptance',\n",
       "       'Business Days between Acceptance and Completion',\n",
       "       'Business Days between Completion and Release'],\n",
       "      dtype='object')"
      ]
     },
     "execution_count": 290,
     "metadata": {},
     "output_type": "execute_result"
    }
   ],
   "source": [
    "df_det.columns"
   ]
  },
  {
   "cell_type": "markdown",
   "metadata": {
    "id": "cKzsWyEobpia"
   },
   "source": [
    "Rules:\n",
    "  - accpetane takes effect when both notice is served to claimant and respondent\n",
    "    - time difference between 'Application date' and 'Acceptance date'\n",
    "  - time limit of adjudication\n",
    "    - an adjudicator is to determine an adjudication application within 10 days after the acceptance date\n",
    "    - within any further time, not exceeding 15 days after the above date, to which the claimant agrees\n",
    "    - not quite sure about this, will calculate \n",
    "      - time difference between 'Acceptance date' and 'Determination completion date' -> should be this\n",
    "      - time difference between 'Determination completion date' and 'Determination release date'\n",
    "  - Adjudicator fee is shared between ANA and Adjudicator, how they share the fee is not a concern to us in terms of the research topic we chose. So will ignore last 3 columns "
   ]
  },
  {
   "cell_type": "markdown",
   "metadata": {
    "id": "gtGdzqWFlFQ3"
   },
   "source": [
    "## NLP to decide whether the constructed work is covered within the SOP act"
   ]
  },
  {
   "cell_type": "code",
   "execution_count": 291,
   "metadata": {
    "executionInfo": {
     "elapsed": 5,
     "status": "ok",
     "timestamp": 1683808362160,
     "user": {
      "displayName": "Jonas Sun",
      "userId": "12770804660918315892"
     },
     "user_tz": -600
    },
    "id": "74P4WLB8lOZV"
   },
   "outputs": [],
   "source": [
    "COVERED_WORK = \"\"\"\n",
    "  (a) the construction, alteration, repair, restoration, maintenance, extension, demolition or dismantling of buildings or structures forming, or to form, part of land (whether permanent or not);\n",
    "  (b) the construction, alteration, repair, restoration, maintenance, extension, demolition or dismantling of any works forming, or to form, part of land, including walls, roadworks, power-lines, telecommunication apparatus, aircraft runways, docks and harbours, railways, inland waterways, pipelines, reservoirs, water mains, wells, sewers, industrial plant and installations for the purposes of land drainage or coast protection;\n",
    "  (c) the installation in any building, structure or works of fittings forming, or to form, part of land, including heating, lighting, air-conditioning, ventilation, power supply, drainage, sanitation, water supply, fire protection, security and communications systems;\n",
    "  (d) the external or internal cleaning of buildings, structures or works, so far as it is carried out in the course of their construction, alteration, repair, restoration, maintenance or extension;\n",
    "  (e) any operation which forms an integral part of, or is preparatory to or is for rendering complete, work of the kind referred to in paragraph (a), (b) or (c), including—\n",
    "    (i) site clearance, earth-moving, excavation, tunnelling and boring; and\n",
    "    (ii) the laying of foundations; and\n",
    "    (iii) the erection, maintenance or dismantling of scaffolding; and\n",
    "    (iv) the prefabrication of components to form part of any building, structure or works, whether carried out on-site or off-site; and\n",
    "    (v) site restoration, landscaping and the provision of roadways and other access works;\n",
    "  (f) the painting or decorating of the internal or external surfaces of any building, structure or works;\n",
    "  (g) any other work of a kind prescribed for the purposes of this subsection.\n",
    "\"\"\"\n",
    "\n",
    "NOT_COVERED_WORK = \"\"\"\n",
    "  (a) the drilling for, or extraction of, oil or natural gas;\n",
    "  (b) the extraction (whether by underground or surface working) of minerals, including tunnelling or boring, or constructing underground works, for that purpose;\n",
    "  (c) any other work of a kind prescribed for the purposes of this subsection.\n",
    "\"\"\""
   ]
  },
  {
   "cell_type": "code",
   "execution_count": 292,
   "metadata": {},
   "outputs": [
    {
     "data": {
      "text/plain": [
       "131"
      ]
     },
     "execution_count": 292,
     "metadata": {},
     "output_type": "execute_result"
    }
   ],
   "source": [
    "df['Project postcode'].value_counts().size"
   ]
  },
  {
   "cell_type": "code",
   "execution_count": 293,
   "metadata": {
    "executionInfo": {
     "elapsed": 33,
     "status": "ok",
     "timestamp": 1683808365851,
     "user": {
      "displayName": "Jonas Sun",
      "userId": "12770804660918315892"
     },
     "user_tz": -600
    },
    "id": "kLu2Oq1b4gpH"
   },
   "outputs": [],
   "source": [
    "import config\n",
    "openai.api_key = config.API_KEY"
   ]
  },
  {
   "cell_type": "code",
   "execution_count": 294,
   "metadata": {
    "colab": {
     "base_uri": "https://localhost:8080/",
     "height": 35
    },
    "executionInfo": {
     "elapsed": 31,
     "status": "ok",
     "timestamp": 1683808365851,
     "user": {
      "displayName": "Jonas Sun",
      "userId": "12770804660918315892"
     },
     "user_tz": -600
    },
    "id": "ugjD2juu9N_I",
    "outputId": "201d4c49-eabf-4c8d-f957-54e87bad613d"
   },
   "outputs": [
    {
     "data": {
      "text/plain": [
       "'covered'"
      ]
     },
     "execution_count": 294,
     "metadata": {},
     "output_type": "execute_result"
    }
   ],
   "source": [
    "# work_performed = input(\"Please input the work performed\")\n",
    "# place holder for user input\n",
    "work_performed = 'Supply and install roof downpipes and plumber fit off'\n",
    "\n",
    "query = f\"\"\"Use only information from the below articles on the works covered in Security of Payment (SOP) Act in Victoria, Austrial to answer the subsequent question.\n",
    "The first article is about works covered under SOP. The second is about works not covered.\n",
    "Only answer with \"covered\" or \"not covered\".\n",
    "If you cannot decide, answer with \"The work done is not relevant\".\n",
    "\n",
    "Article:\n",
    "\\\"\\\"\\\"\n",
    "{COVERED_WORK}\n",
    "\\\"\\\"\\\"\n",
    "\\\"\\\"\\\"\n",
    "{NOT_COVERED_WORK}\n",
    "\\\"\\\"\\\"\n",
    "\n",
    "Question: is {work_performed} covered in Security of Payment\"\"\"\n",
    "\n",
    "MODEL = \"gpt-3.5-turbo\"\n",
    "response = openai.ChatCompletion.create(\n",
    "    model=MODEL,\n",
    "    messages=[\n",
    "        {\"role\": \"user\", \"content\": query},\n",
    "    ],\n",
    "    temperature=0,\n",
    ")\n",
    "\n",
    "response['choices'][0]['message']['content']"
   ]
  },
  {
   "cell_type": "code",
   "execution_count": 295,
   "metadata": {},
   "outputs": [],
   "source": [
    "works = list(df['Description of project and contract works'].values)"
   ]
  },
  {
   "cell_type": "code",
   "execution_count": 296,
   "metadata": {},
   "outputs": [],
   "source": [
    "# query = f\"\"\"The article given below listed the types of work covered in Security of Payment act.\n",
    "# These categories are labeled using character from a to g.\n",
    "\n",
    "# Article:\n",
    "# \\\"\\\"\\\"\n",
    "# {COVERED_WORK}\n",
    "# \\\"\\\"\\\"\n",
    "\n",
    "# Based only on the information given above, for each of the project decription (seperated by ,) in the list given below, please classify each of them to a category from (a) to (g).\n",
    "# Output the result in a single string, wrap each categorisation with single quote and separate each with comma (,).\n",
    "# Notice the output should only contain characters \"a, b, c, d, e, f, g\"\n",
    "\n",
    "# the project descriptions: {works}\"\"\"\n",
    "\n",
    "# MODEL = \"gpt-3.5-turbo\"\n",
    "# response = openai.ChatCompletion.create(\n",
    "#     model=MODEL,\n",
    "#     messages=[\n",
    "#         {\"role\": \"user\", \"content\": query},\n",
    "#     ],\n",
    "#     temperature=0,\n",
    "# )\n",
    "\n",
    "# response"
   ]
  },
  {
   "cell_type": "markdown",
   "metadata": {
    "id": "0DcdP9daaDQY"
   },
   "source": [
    "## small ideas"
   ]
  },
  {
   "cell_type": "code",
   "execution_count": 297,
   "metadata": {
    "colab": {
     "base_uri": "https://localhost:8080/"
    },
    "executionInfo": {
     "elapsed": 29,
     "status": "ok",
     "timestamp": 1683808365851,
     "user": {
      "displayName": "Jonas Sun",
      "userId": "12770804660918315892"
     },
     "user_tz": -600
    },
    "id": "mzRmgS_taBED",
    "outputId": "0aebb36c-e8f2-4a4d-e3f5-ad86121e1419"
   },
   "outputs": [
    {
     "data": {
      "text/plain": [
       "0.6188925081433225"
      ]
     },
     "execution_count": 297,
     "metadata": {},
     "output_type": "execute_result"
    }
   ],
   "source": [
    "# overall determination ratio of SOP act during the period\n",
    "determination_ratio = df_det.shape[0] / df.shape[0]\n",
    "determination_ratio"
   ]
  },
  {
   "cell_type": "code",
   "execution_count": 298,
   "metadata": {
    "executionInfo": {
     "elapsed": 20,
     "status": "ok",
     "timestamp": 1683808365851,
     "user": {
      "displayName": "Jonas Sun",
      "userId": "12770804660918315892"
     },
     "user_tz": -600
    },
    "id": "qG58RDxrgo2-"
   },
   "outputs": [],
   "source": [
    "# distribution of Adjudication Certificate fee (4 levels: 0, 100, 300, 500)"
   ]
  },
  {
   "cell_type": "code",
   "execution_count": 299,
   "metadata": {
    "executionInfo": {
     "elapsed": 20,
     "status": "ok",
     "timestamp": 1683808365851,
     "user": {
      "displayName": "Jonas Sun",
      "userId": "12770804660918315892"
     },
     "user_tz": -600
    },
    "id": "1djjdKBFBdle"
   },
   "outputs": [],
   "source": [
    "# distribution of share%"
   ]
  },
  {
   "cell_type": "code",
   "execution_count": 300,
   "metadata": {
    "executionInfo": {
     "elapsed": 20,
     "status": "ok",
     "timestamp": 1683808365851,
     "user": {
      "displayName": "Jonas Sun",
      "userId": "12770804660918315892"
     },
     "user_tz": -600
    },
    "id": "FNi-2x-R37Vf"
   },
   "outputs": [],
   "source": [
    "# The SOP act does not charge application fee as evidenced by all the cases in our dataset."
   ]
  },
  {
   "cell_type": "markdown",
   "metadata": {
    "id": "YJ_UJw_8J5Fw"
   },
   "source": [
    "# Visualisation"
   ]
  },
  {
   "cell_type": "markdown",
   "metadata": {
    "id": "NAOp1t2oc8sx"
   },
   "source": [
    "## To do list\n",
    "\n",
    "- most of the time for distribution it's just the univariate distribution of of variable, so histogram should be fine\n",
    "- our main response variable would be \n",
    "$$ adjudicated\\ ratio = \\frac{adjudicated\\ amount}{claimed\\ amount} $$\n",
    "\n",
    "-----\n",
    "\n",
    "- [ ] distribution of Adjudication Certificate fee (4 levels: 0, 100, 300, 500)\n",
    "- [ ] distribution of Claimed amount\n",
    "- [ ] distribution of adjudicated amount/claimed amount\n",
    "- [ ] distribution of adjudicated fee/adjudicated amount\n",
    "- [ ] exploration of our (main) response variable to potential predictors, mostly 2D scatter plot, if you find something interesting and needs to put them in one graph, could use 3D scatter plot, augment the graph with size (of dot), color, etc\n",
    "  - [ ] main response against every potential predictor, show the interesting ones\n",
    "  - [ ] other response aginst every potential predictor, show the interesting ones\n",
    "- [ ] heatmap to see if we can cluster our dataset into different groups (unsupervised ML)"
   ]
  },
  {
   "cell_type": "markdown",
   "metadata": {
    "id": "YlMii25jMNcb"
   },
   "source": [
    "Flow chart of the application process (timeline) - Do we summarise the SOP flowchart on the edworksspace Jonas Sun provided using another flowchart? \n",
    "\n",
    "Distribution of claimed amount/PC business type/R business type - Do we plot it against the application date or acceptance data etc.? Will probably use bar chart, any other ideas for categorical data?\n",
    "\n",
    "Any other visualisations we need?\n",
    "\n",
    "If we did clustering, what would we base it on\n",
    "\n"
   ]
  },
  {
   "cell_type": "code",
   "execution_count": 301,
   "metadata": {
    "colab": {
     "base_uri": "https://localhost:8080/"
    },
    "executionInfo": {
     "elapsed": 19,
     "status": "ok",
     "timestamp": 1683808365851,
     "user": {
      "displayName": "Jonas Sun",
      "userId": "12770804660918315892"
     },
     "user_tz": -600
    },
    "id": "BigynWHf3oJc",
    "outputId": "6ec97763-b4fc-4064-d42b-c5b2de754005",
    "scrolled": false
   },
   "outputs": [
    {
     "data": {
      "text/plain": [
       "Index(['Application date', 'Acceptance date',\n",
       "       'Description of project and contract works', 'Project postcode',\n",
       "       'Claimed amount (ex GST)', 'Amount of Payment Schedule (ex GST)',\n",
       "       'Section of Act application made under',\n",
       "       'Business Type/Activity (Claimant)', 'Business Structure (Claimant)',\n",
       "       'Claimant advisers', 'Business Type/Activity (Respondent)',\n",
       "       'Business Structure (Respondent)', 'Respondent advisers',\n",
       "       'Determination status', 'Determination completion date',\n",
       "       'Reasons if the application is not determined',\n",
       "       's21(2B) new reasons provided by Respondent',\n",
       "       's22(4)(b) extension of time sought', 'Determination released',\n",
       "       'Determination released date', 'Adjudicated amount (ex GST)',\n",
       "       'Total Adjudicator fee (ex GST)',\n",
       "       'Adjudicator's fee payable by Claimant %',\n",
       "       'Adjudicator's fee payable by Respondent %',\n",
       "       'Adjudicator's fee payable by Claimant (ex GST)',\n",
       "       'Adjudicator's fee payable by Respondent (ex GST)',\n",
       "       'Adjudication Certificate issued',\n",
       "       'Adjudication Certificate fee (ex GST)',\n",
       "       'Date Adjudication Certificate issued', 'Region name',\n",
       "       'Description of work processed', 'Work category', 'Adjudicate ratio',\n",
       "       'Log claimed amount', 'Log payment schedule amount'],\n",
       "      dtype='object')"
      ]
     },
     "execution_count": 301,
     "metadata": {},
     "output_type": "execute_result"
    }
   ],
   "source": [
    "# heatmap\n",
    "df.columns"
   ]
  },
  {
   "cell_type": "code",
   "execution_count": 317,
   "metadata": {},
   "outputs": [
    {
     "data": {
      "text/plain": [
       "s.18(1)(b)        151\n",
       "s.18(1)(a)(i)     142\n",
       "s.18(1)(a)(ii)     14\n",
       "Name: Section of Act application made under, dtype: int64"
      ]
     },
     "execution_count": 317,
     "metadata": {},
     "output_type": "execute_result"
    }
   ],
   "source": [
    "df['Section of Act application made under'].value_counts()"
   ]
  },
  {
   "cell_type": "markdown",
   "metadata": {
    "id": "68uzxOPyJ5O7"
   },
   "source": [
    "# Feature Selection"
   ]
  },
  {
   "cell_type": "code",
   "execution_count": 302,
   "metadata": {
    "executionInfo": {
     "elapsed": 15,
     "status": "ok",
     "timestamp": 1683808365851,
     "user": {
      "displayName": "Jonas Sun",
      "userId": "12770804660918315892"
     },
     "user_tz": -600
    },
    "id": "P1eLLoklYVoM"
   },
   "outputs": [],
   "source": [
    "# relationship between categorical variables using mutual information or Cramer's V"
   ]
  },
  {
   "cell_type": "markdown",
   "metadata": {
    "id": "5jLxE965bwTc"
   },
   "source": [
    "### Pearson's correlation"
   ]
  },
  {
   "cell_type": "code",
   "execution_count": 303,
   "metadata": {
    "colab": {
     "base_uri": "https://localhost:8080/",
     "height": 196
    },
    "executionInfo": {
     "elapsed": 15,
     "status": "ok",
     "timestamp": 1683808365851,
     "user": {
      "displayName": "Jonas Sun",
      "userId": "12770804660918315892"
     },
     "user_tz": -600
    },
    "id": "-ZVwL_JkX09-",
    "outputId": "35394aa5-286e-4feb-cdb9-385c20ed5680"
   },
   "outputs": [
    {
     "name": "stderr",
     "output_type": "stream",
     "text": [
      "/var/folders/zk/5ftd784d7k98ng_cj8kjv5680000gn/T/ipykernel_59440/3813966535.py:2: FutureWarning: The default value of numeric_only in DataFrame.corr is deprecated. In a future version, it will default to False. Select only valid columns or specify the value of numeric_only to silence this warning.\n",
      "  df_det[BEFORE + ['Adjudicate ratio']].corr()\n"
     ]
    },
    {
     "data": {
      "text/html": [
       "<div>\n",
       "<style scoped>\n",
       "    .dataframe tbody tr th:only-of-type {\n",
       "        vertical-align: middle;\n",
       "    }\n",
       "\n",
       "    .dataframe tbody tr th {\n",
       "        vertical-align: top;\n",
       "    }\n",
       "\n",
       "    .dataframe thead th {\n",
       "        text-align: right;\n",
       "    }\n",
       "</style>\n",
       "<table border=\"1\" class=\"dataframe\">\n",
       "  <thead>\n",
       "    <tr style=\"text-align: right;\">\n",
       "      <th></th>\n",
       "      <th>Claimed amount (ex GST)</th>\n",
       "      <th>Log claimed amount</th>\n",
       "      <th>Amount of Payment Schedule (ex GST)</th>\n",
       "      <th>Log payment schedule amount</th>\n",
       "      <th>Adjudicate ratio</th>\n",
       "    </tr>\n",
       "  </thead>\n",
       "  <tbody>\n",
       "    <tr>\n",
       "      <th>Claimed amount (ex GST)</th>\n",
       "      <td>1.000000</td>\n",
       "      <td>0.406522</td>\n",
       "      <td>-0.002035</td>\n",
       "      <td>-0.033686</td>\n",
       "      <td>-0.050638</td>\n",
       "    </tr>\n",
       "    <tr>\n",
       "      <th>Log claimed amount</th>\n",
       "      <td>0.406522</td>\n",
       "      <td>1.000000</td>\n",
       "      <td>0.226352</td>\n",
       "      <td>0.134641</td>\n",
       "      <td>-0.045719</td>\n",
       "    </tr>\n",
       "    <tr>\n",
       "      <th>Amount of Payment Schedule (ex GST)</th>\n",
       "      <td>-0.002035</td>\n",
       "      <td>0.226352</td>\n",
       "      <td>1.000000</td>\n",
       "      <td>0.600945</td>\n",
       "      <td>0.059330</td>\n",
       "    </tr>\n",
       "    <tr>\n",
       "      <th>Log payment schedule amount</th>\n",
       "      <td>-0.033686</td>\n",
       "      <td>0.134641</td>\n",
       "      <td>0.600945</td>\n",
       "      <td>1.000000</td>\n",
       "      <td>-0.053801</td>\n",
       "    </tr>\n",
       "    <tr>\n",
       "      <th>Adjudicate ratio</th>\n",
       "      <td>-0.050638</td>\n",
       "      <td>-0.045719</td>\n",
       "      <td>0.059330</td>\n",
       "      <td>-0.053801</td>\n",
       "      <td>1.000000</td>\n",
       "    </tr>\n",
       "  </tbody>\n",
       "</table>\n",
       "</div>"
      ],
      "text/plain": [
       "                                     Claimed amount (ex GST)  \\\n",
       "Claimed amount (ex GST)                             1.000000   \n",
       "Log claimed amount                                  0.406522   \n",
       "Amount of Payment Schedule (ex GST)                -0.002035   \n",
       "Log payment schedule amount                        -0.033686   \n",
       "Adjudicate ratio                                   -0.050638   \n",
       "\n",
       "                                     Log claimed amount  \\\n",
       "Claimed amount (ex GST)                        0.406522   \n",
       "Log claimed amount                             1.000000   \n",
       "Amount of Payment Schedule (ex GST)            0.226352   \n",
       "Log payment schedule amount                    0.134641   \n",
       "Adjudicate ratio                              -0.045719   \n",
       "\n",
       "                                     Amount of Payment Schedule (ex GST)  \\\n",
       "Claimed amount (ex GST)                                        -0.002035   \n",
       "Log claimed amount                                              0.226352   \n",
       "Amount of Payment Schedule (ex GST)                             1.000000   \n",
       "Log payment schedule amount                                     0.600945   \n",
       "Adjudicate ratio                                                0.059330   \n",
       "\n",
       "                                     Log payment schedule amount  \\\n",
       "Claimed amount (ex GST)                                -0.033686   \n",
       "Log claimed amount                                      0.134641   \n",
       "Amount of Payment Schedule (ex GST)                     0.600945   \n",
       "Log payment schedule amount                             1.000000   \n",
       "Adjudicate ratio                                       -0.053801   \n",
       "\n",
       "                                     Adjudicate ratio  \n",
       "Claimed amount (ex GST)                     -0.050638  \n",
       "Log claimed amount                          -0.045719  \n",
       "Amount of Payment Schedule (ex GST)          0.059330  \n",
       "Log payment schedule amount                 -0.053801  \n",
       "Adjudicate ratio                             1.000000  "
      ]
     },
     "execution_count": 303,
     "metadata": {},
     "output_type": "execute_result"
    }
   ],
   "source": [
    "# Pearson correlation (only applicable to numerical values)\n",
    "df_det[BEFORE + ['Adjudicate ratio']].corr()"
   ]
  },
  {
   "cell_type": "markdown",
   "metadata": {
    "id": "b5q8-mkjaX78"
   },
   "source": [
    "We will not rely too much on Pearson's correlation because:\n",
    "  1. Except for the response varialbe 'Adjudicate ratio', we only have two potential predictors that are numerical.\n",
    "  2. The model we attempt to use is Beta regression which is not a linear model while Pearson's correlation only tells us about how two variables are linearly correlated.\n",
    "\n",
    "Nevertheless, it is good to see the correlation between 'Adjudicate ratio' and 'Claimed amount' is extremely close to 0 which means the adjudication is not affected by the amount Claimed which might suggest the process is just and unbiased."
   ]
  },
  {
   "cell_type": "markdown",
   "metadata": {
    "id": "fV-eA5e9bzi6"
   },
   "source": [
    "### Mutual Information"
   ]
  },
  {
   "cell_type": "code",
   "execution_count": 304,
   "metadata": {
    "executionInfo": {
     "elapsed": 11,
     "status": "ok",
     "timestamp": 1683808365852,
     "user": {
      "displayName": "Jonas Sun",
      "userId": "12770804660918315892"
     },
     "user_tz": -600
    },
    "id": "GAqC5DatAuNm"
   },
   "outputs": [],
   "source": [
    "# discretize adjudicate ratio to facilitate the calculation of mutual information\n",
    "def discretize_perc(perc):\n",
    "  \"\"\"\n",
    "  by examining the distribution, most of the application's adjudicate ratio is clustered around 0 or 1\n",
    "  so we really don't care too much anything in between as long as the data can be corretly classified to the low or high end of %\n",
    "  so for now, we just create 4 equal length bins\n",
    "  \"\"\"\n",
    "  if perc < 0.25: return 'L'\n",
    "  elif perc < 0.5: return 'ML'\n",
    "  elif perc < 0.75: return 'MH'\n",
    "  else: return 'H'\n",
    "\n",
    "df_det['Adjudicate ratio bin'] = df_det['Adjudicate ratio'].apply(discretize_perc)\n",
    "df_det['Adjudicate ratio bin'] = df_det['Adjudicate ratio bin'].astype('category')"
   ]
  },
  {
   "cell_type": "code",
   "execution_count": 305,
   "metadata": {},
   "outputs": [],
   "source": [
    "def binary_perc(perc):\n",
    "    if perc < 0.5: return 0\n",
    "    return 1\n",
    "    \n",
    "df_det['Adjudicate ratio binary'] = df_det['Adjudicate ratio'].apply(binary_perc)\n",
    "df_det['Adjudicate ratio binary'] = df_det['Adjudicate ratio binary'].astype('int64')"
   ]
  },
  {
   "cell_type": "code",
   "execution_count": 308,
   "metadata": {
    "colab": {
     "base_uri": "https://localhost:8080/"
    },
    "executionInfo": {
     "elapsed": 10,
     "status": "ok",
     "timestamp": 1683808365852,
     "user": {
      "displayName": "Jonas Sun",
      "userId": "12770804660918315892"
     },
     "user_tz": -600
    },
    "id": "sPbhe8_AsIh_",
    "outputId": "ff9b0b3b-c069-46c8-9313-bcfcab0738cf"
   },
   "outputs": [],
   "source": [
    "BEFORE_CATEGORY = list(set(BEFORE) & set(CATEGORY))"
   ]
  },
  {
   "cell_type": "code",
   "execution_count": 316,
   "metadata": {
    "colab": {
     "base_uri": "https://localhost:8080/",
     "height": 528
    },
    "executionInfo": {
     "elapsed": 304,
     "status": "error",
     "timestamp": 1683808558788,
     "user": {
      "displayName": "Jonas Sun",
      "userId": "12770804660918315892"
     },
     "user_tz": -600
    },
    "id": "gLzmjPI-nCyU",
    "outputId": "8bb54298-80d4-4d8f-e556-f9388537c69a"
   },
   "outputs": [
    {
     "name": "stdout",
     "output_type": "stream",
     "text": [
      "NMI between categorical variables\n",
      "variable                                                                         NMI       \n",
      "Respondent advisers:Business Type/Activity (Claimant)                            0.19      \n",
      "Respondent advisers:s21(2B) new reasons provided by Respondent                   0.23      \n",
      "Respondent advisers:s22(4)(b) extension of time sought                           0.19      \n",
      "Work category:Business Type/Activity (Claimant)                                  0.16      \n",
      "Work category:Business Structure (Claimant)                                      0.22      \n",
      "Section of Act application made under:s21(2B) new reasons provided by Respondent 0.17      \n",
      "Section of Act application made under:Business Structure (Claimant)              0.15      \n",
      "Section of Act application made under:s22(4)(b) extension of time sought         0.17      \n",
      "Claimant advisers:Region name                                                    0.15      \n",
      "Business Type/Activity (Respondent):Business Type/Activity (Claimant)            0.40      \n",
      "Region name:Business Structure (Claimant)                                        0.30      \n",
      "Region name:Business Structure (Respondent)                                      0.20      \n",
      "Business Type/Activity (Claimant):Business Structure (Respondent)                0.24      \n",
      "s21(2B) new reasons provided by Respondent:s22(4)(b) extension of time sought    0.30      \n"
     ]
    }
   ],
   "source": [
    "from sklearn.metrics import normalized_mutual_info_score\n",
    "\n",
    "def NMI_category_list(response):\n",
    "    variables = BEFORE_CATEGORY + [response]\n",
    "    length = len(variables)\n",
    "    print(\"NMI between categorical variables\")\n",
    "    print(\"{:<80} {:<10}\".format('variable','NMI'))\n",
    "    for i in range(length):\n",
    "        for j in range(i+1, length):\n",
    "            score = normalized_mutual_info_score(df_det[variables[i]], df_det[variables[j]], average_method='min')\n",
    "            if score > 0.15:\n",
    "                print(\"{:<80} {:<10.2f}\".format(variables[i]+':'+variables[j], score))\n",
    "    \n",
    "NMI_category_list('Adjudicate ratio bin')\n"
   ]
  },
  {
   "cell_type": "code",
   "execution_count": 311,
   "metadata": {
    "scrolled": false
   },
   "outputs": [
    {
     "data": {
      "image/png": "[encoded data removed]",
      "text/plain": [
       "<Figure size 600x400 with 1 Axes>"
      ]
     },
     "metadata": {},
     "output_type": "display_data"
    },
    {
     "data": {
      "image/png": "[encoded data removed]",
      "text/plain": [
       "<Figure size 600x400 with 1 Axes>"
      ]
     },
     "metadata": {},
     "output_type": "display_data"
    },
    {
     "data": {
      "image/png": "[encoded data removed]",
      "text/plain": [
       "<Figure size 600x400 with 1 Axes>"
      ]
     },
     "metadata": {},
     "output_type": "display_data"
    },
    {
     "data": {
      "image/png": "[encoded data removed]",
      "text/plain": [
       "<Figure size 600x400 with 1 Axes>"
      ]
     },
     "metadata": {},
     "output_type": "display_data"
    },
    {
     "data": {
      "image/png": "[encoded data removed]",
      "text/plain": [
       "<Figure size 600x400 with 1 Axes>"
      ]
     },
     "metadata": {},
     "output_type": "display_data"
    },
    {
     "data": {
      "image/png": "[encoded data removed]",
      "text/plain": [
       "<Figure size 600x400 with 1 Axes>"
      ]
     },
     "metadata": {},
     "output_type": "display_data"
    },
    {
     "data": {
      "image/png": "[encoded data removed]",
      "text/plain": [
       "<Figure size 600x400 with 1 Axes>"
      ]
     },
     "metadata": {},
     "output_type": "display_data"
    },
    {
     "data": {
      "image/png": "[encoded data removed]",
      "text/plain": [
       "<Figure size 600x400 with 1 Axes>"
      ]
     },
     "metadata": {},
     "output_type": "display_data"
    },
    {
     "data": {
      "image/png": "[encoded data removed]",
      "text/plain": [
       "<Figure size 600x400 with 1 Axes>"
      ]
     },
     "metadata": {},
     "output_type": "display_data"
    },
    {
     "data": {
      "image/png": "[encoded data removed]",
      "text/plain": [
       "<Figure size 600x400 with 1 Axes>"
      ]
     },
     "metadata": {},
     "output_type": "display_data"
    },
    {
     "data": {
      "image/png": "[encoded data removed]",
      "text/plain": [
       "<Figure size 600x400 with 1 Axes>"
      ]
     },
     "metadata": {},
     "output_type": "display_data"
    }
   ],
   "source": [
    "def pairwise_rel():\n",
    "#     f = plt.figure(figsize=(6, 12))\n",
    "#     gs = f.add_gridspec(3, 3)\n",
    "#     i = 0\n",
    "    for col in BEFORE_CATEGORY:\n",
    "        # ax = f.add_subplot(gs[i//3, i%3])\n",
    "        fig, ax = plt.subplots(figsize=(6, 4))\n",
    "        sns.boxplot(ax=ax, data=df_det, y=col, x=\"Adjudicate ratio\")\n",
    "        # i += 1\n",
    "\n",
    "pairwise_rel()"
   ]
  },
  {
   "cell_type": "code",
   "execution_count": 312,
   "metadata": {},
   "outputs": [],
   "source": [
    "# BEFORE_CATEGORY = list(set(BEFORE) & set(CATEGORY))\n",
    "\n",
    "# g = sns.PairGrid(df_det, vars=BEFORE_CATEGORY + ['Adjudicate ratio'])\n",
    "# g.map_diag(sns.histplot)\n",
    "# g.map_offdiag(sns.stripplot)"
   ]
  },
  {
   "cell_type": "markdown",
   "metadata": {
    "id": "yX6DzGxJJ5ZX"
   },
   "source": [
    "# Model Fitting"
   ]
  },
  {
   "cell_type": "code",
   "execution_count": 313,
   "metadata": {
    "colab": {
     "base_uri": "https://localhost:8080/",
     "height": 340
    },
    "executionInfo": {
     "elapsed": 341,
     "status": "ok",
     "timestamp": 1683804455112,
     "user": {
      "displayName": "Jonas Sun",
      "userId": "12770804660918315892"
     },
     "user_tz": -600
    },
    "id": "5M5R0Vtbjm-i",
    "outputId": "64cee719-49cc-426d-d4e5-08712d66f4ec",
    "scrolled": true
   },
   "outputs": [
    {
     "data": {
      "text/html": [
       "<div>\n",
       "<style scoped>\n",
       "    .dataframe tbody tr th:only-of-type {\n",
       "        vertical-align: middle;\n",
       "    }\n",
       "\n",
       "    .dataframe tbody tr th {\n",
       "        vertical-align: top;\n",
       "    }\n",
       "\n",
       "    .dataframe thead th {\n",
       "        text-align: right;\n",
       "    }\n",
       "</style>\n",
       "<table border=\"1\" class=\"dataframe\">\n",
       "  <thead>\n",
       "    <tr style=\"text-align: right;\">\n",
       "      <th></th>\n",
       "      <th>Application date</th>\n",
       "      <th>Acceptance date</th>\n",
       "      <th>Description of project and contract works</th>\n",
       "      <th>Project postcode</th>\n",
       "      <th>Claimed amount (ex GST)</th>\n",
       "      <th>Amount of Payment Schedule (ex GST)</th>\n",
       "      <th>Section of Act application made under</th>\n",
       "      <th>Business Type/Activity (Claimant)</th>\n",
       "      <th>Business Structure (Claimant)</th>\n",
       "      <th>Claimant advisers</th>\n",
       "      <th>...</th>\n",
       "      <th>Description of work processed</th>\n",
       "      <th>Work category</th>\n",
       "      <th>Adjudicate ratio</th>\n",
       "      <th>Log claimed amount</th>\n",
       "      <th>Log payment schedule amount</th>\n",
       "      <th>Business Days between Application and Acceptance</th>\n",
       "      <th>Business Days between Acceptance and Completion</th>\n",
       "      <th>Business Days between Completion and Release</th>\n",
       "      <th>Adjudicate ratio bin</th>\n",
       "      <th>Adjudicate ratio binary</th>\n",
       "    </tr>\n",
       "    <tr>\n",
       "      <th>No. of App.</th>\n",
       "      <th></th>\n",
       "      <th></th>\n",
       "      <th></th>\n",
       "      <th></th>\n",
       "      <th></th>\n",
       "      <th></th>\n",
       "      <th></th>\n",
       "      <th></th>\n",
       "      <th></th>\n",
       "      <th></th>\n",
       "      <th></th>\n",
       "      <th></th>\n",
       "      <th></th>\n",
       "      <th></th>\n",
       "      <th></th>\n",
       "      <th></th>\n",
       "      <th></th>\n",
       "      <th></th>\n",
       "      <th></th>\n",
       "      <th></th>\n",
       "      <th></th>\n",
       "    </tr>\n",
       "  </thead>\n",
       "  <tbody>\n",
       "    <tr>\n",
       "      <th>185</th>\n",
       "      <td>2022-02-10</td>\n",
       "      <td>2022-02-14</td>\n",
       "      <td>Construction works</td>\n",
       "      <td>3910</td>\n",
       "      <td>19517.24</td>\n",
       "      <td>0.0</td>\n",
       "      <td>s.18(1)(a)(i)</td>\n",
       "      <td>Trade subcontractor</td>\n",
       "      <td>Pty Ltd Company</td>\n",
       "      <td>Solicitors</td>\n",
       "      <td>...</td>\n",
       "      <td>construction works</td>\n",
       "      <td>1</td>\n",
       "      <td>1.167632</td>\n",
       "      <td>9.879105</td>\n",
       "      <td>0.0</td>\n",
       "      <td>3</td>\n",
       "      <td>17</td>\n",
       "      <td>1</td>\n",
       "      <td>H</td>\n",
       "      <td>1</td>\n",
       "    </tr>\n",
       "  </tbody>\n",
       "</table>\n",
       "<p>1 rows × 40 columns</p>\n",
       "</div>"
      ],
      "text/plain": [
       "            Application date Acceptance date  \\\n",
       "No. of App.                                    \n",
       "185               2022-02-10      2022-02-14   \n",
       "\n",
       "            Description of project and contract works Project postcode  \\\n",
       "No. of App.                                                              \n",
       "185                                Construction works             3910   \n",
       "\n",
       "             Claimed amount (ex GST)  Amount of Payment Schedule (ex GST)  \\\n",
       "No. of App.                                                                 \n",
       "185                         19517.24                                  0.0   \n",
       "\n",
       "            Section of Act application made under  \\\n",
       "No. of App.                                         \n",
       "185                                 s.18(1)(a)(i)   \n",
       "\n",
       "            Business Type/Activity (Claimant) Business Structure (Claimant)  \\\n",
       "No. of App.                                                                   \n",
       "185                       Trade subcontractor               Pty Ltd Company   \n",
       "\n",
       "            Claimant advisers  ... Description of work processed  \\\n",
       "No. of App.                    ...                                 \n",
       "185                Solicitors  ...            construction works   \n",
       "\n",
       "            Work category Adjudicate ratio Log claimed amount  \\\n",
       "No. of App.                                                     \n",
       "185                     1         1.167632           9.879105   \n",
       "\n",
       "            Log payment schedule amount  \\\n",
       "No. of App.                               \n",
       "185                                 0.0   \n",
       "\n",
       "            Business Days between Application and Acceptance  \\\n",
       "No. of App.                                                    \n",
       "185                                                        3   \n",
       "\n",
       "            Business Days between Acceptance and Completion  \\\n",
       "No. of App.                                                   \n",
       "185                                                      17   \n",
       "\n",
       "            Business Days between Completion and Release Adjudicate ratio bin  \\\n",
       "No. of App.                                                                     \n",
       "185                                                    1                    H   \n",
       "\n",
       "            Adjudicate ratio binary  \n",
       "No. of App.                          \n",
       "185                               1  \n",
       "\n",
       "[1 rows x 40 columns]"
      ]
     },
     "execution_count": 313,
     "metadata": {},
     "output_type": "execute_result"
    }
   ],
   "source": [
    "df_det.loc[df_det['Adjudicate ratio'] > 1, ]"
   ]
  },
  {
   "cell_type": "code",
   "execution_count": 314,
   "metadata": {
    "colab": {
     "base_uri": "https://localhost:8080/",
     "height": 523
    },
    "executionInfo": {
     "elapsed": 927,
     "status": "ok",
     "timestamp": 1683804200512,
     "user": {
      "displayName": "Jonas Sun",
      "userId": "12770804660918315892"
     },
     "user_tz": -600
    },
    "id": "W9k77rL7gAoH",
    "outputId": "a2764b83-6219-4fc5-ecaf-45c83c411d18",
    "scrolled": true
   },
   "outputs": [
    {
     "data": {
      "image/png": "[encoded data removed]",
      "text/plain": [
       "<Figure size 600x400 with 1 Axes>"
      ]
     },
     "metadata": {},
     "output_type": "display_data"
    }
   ],
   "source": [
    "# plot to see how is 'Adjudicate ratio' distributed\n",
    "fig, ax = plt.subplots(figsize=(6, 4))\n",
    "sns.histplot(df_det['Adjudicate ratio'], kde=True, ax=ax)\n",
    "ax.set_title('Histgram of Adjudicate ratio')\n",
    "fig.savefig('plots/AdjudicateRatioHist.png')"
   ]
  },
  {
   "cell_type": "markdown",
   "metadata": {
    "id": "wZZp-GCah3Z_"
   },
   "source": [
    "As expected, percentage data is usually highly skewed and does not fit too well into a traditional linear regression model while beta regression can alleviate the problem of skewness through a proper choice of link function"
   ]
  },
  {
   "cell_type": "code",
   "execution_count": 315,
   "metadata": {
    "scrolled": false
   },
   "outputs": [
    {
     "data": {
      "text/plain": [
       "['Application date',\n",
       " 'Acceptance date',\n",
       " 'Description of project and contract works',\n",
       " 'Work category',\n",
       " 'Project postcode',\n",
       " 'Region name',\n",
       " 'Claimed amount (ex GST)',\n",
       " 'Log claimed amount',\n",
       " 'Amount of Payment Schedule (ex GST)',\n",
       " 'Log payment schedule amount',\n",
       " 'Section of Act application made under',\n",
       " 'Business Type/Activity (Claimant)',\n",
       " 'Business Structure (Claimant)',\n",
       " 'Claimant advisers',\n",
       " 'Business Type/Activity (Respondent)',\n",
       " 'Business Structure (Respondent)',\n",
       " 'Respondent advisers',\n",
       " 's21(2B) new reasons provided by Respondent',\n",
       " 's22(4)(b) extension of time sought']"
      ]
     },
     "execution_count": 315,
     "metadata": {},
     "output_type": "execute_result"
    }
   ],
   "source": [
    "BEFORE"
   ]
  },
  {
   "cell_type": "code",
   "execution_count": 233,
   "metadata": {},
   "outputs": [],
   "source": [
    "df.to_csv(\"cleaned_full_data.csv\")\n",
    "df_det.to_csv(\"cleaned_det_data.csv\")"
   ]
  },
  {
   "cell_type": "markdown",
   "metadata": {},
   "source": [
    "### structural zero issues"
   ]
  },
  {
   "cell_type": "code",
   "execution_count": 65,
   "metadata": {
    "scrolled": true
   },
   "outputs": [
    {
     "data": {
      "text/plain": [
       "Pty Ltd Company    166\n",
       "Other               13\n",
       "Trust                6\n",
       "Sole Trader          3\n",
       "Partnership          2\n",
       "Name: Business Structure (Respondent), dtype: int64"
      ]
     },
     "execution_count": 65,
     "metadata": {},
     "output_type": "execute_result"
    }
   ],
   "source": [
    "df_det['Business Structure (Respondent)'].value_counts()"
   ]
  },
  {
   "cell_type": "code",
   "execution_count": 66,
   "metadata": {},
   "outputs": [
    {
     "data": {
      "text/html": [
       "<div>\n",
       "<style scoped>\n",
       "    .dataframe tbody tr th:only-of-type {\n",
       "        vertical-align: middle;\n",
       "    }\n",
       "\n",
       "    .dataframe tbody tr th {\n",
       "        vertical-align: top;\n",
       "    }\n",
       "\n",
       "    .dataframe thead th {\n",
       "        text-align: right;\n",
       "    }\n",
       "</style>\n",
       "<table border=\"1\" class=\"dataframe\">\n",
       "  <thead>\n",
       "    <tr style=\"text-align: right;\">\n",
       "      <th></th>\n",
       "      <th>Application date</th>\n",
       "      <th>Acceptance date</th>\n",
       "      <th>Description of project and contract works</th>\n",
       "      <th>Project postcode</th>\n",
       "      <th>Claimed amount (ex GST)</th>\n",
       "      <th>Amount of Payment Schedule (ex GST)</th>\n",
       "      <th>Section of Act application made under</th>\n",
       "      <th>Business Type/Activity (Claimant)</th>\n",
       "      <th>Business Structure (Claimant)</th>\n",
       "      <th>Claimant advisers</th>\n",
       "      <th>...</th>\n",
       "      <th>Date Adjudication Certificate issued</th>\n",
       "      <th>Region name</th>\n",
       "      <th>Description of work processed</th>\n",
       "      <th>Work category</th>\n",
       "      <th>Adjudicate ratio</th>\n",
       "      <th>Business Days between Application and Acceptance</th>\n",
       "      <th>Business Days between Acceptance and Completion</th>\n",
       "      <th>Business Days between Completion and Release</th>\n",
       "      <th>Adjudicate ratio bin</th>\n",
       "      <th>Adjudicate ratio binary</th>\n",
       "    </tr>\n",
       "    <tr>\n",
       "      <th>No. of App.</th>\n",
       "      <th></th>\n",
       "      <th></th>\n",
       "      <th></th>\n",
       "      <th></th>\n",
       "      <th></th>\n",
       "      <th></th>\n",
       "      <th></th>\n",
       "      <th></th>\n",
       "      <th></th>\n",
       "      <th></th>\n",
       "      <th></th>\n",
       "      <th></th>\n",
       "      <th></th>\n",
       "      <th></th>\n",
       "      <th></th>\n",
       "      <th></th>\n",
       "      <th></th>\n",
       "      <th></th>\n",
       "      <th></th>\n",
       "      <th></th>\n",
       "      <th></th>\n",
       "    </tr>\n",
       "  </thead>\n",
       "  <tbody>\n",
       "    <tr>\n",
       "      <th>71</th>\n",
       "      <td>2021-08-31</td>\n",
       "      <td>2021-09-06</td>\n",
       "      <td>Electrical Works (new pits and metering)</td>\n",
       "      <td>3581</td>\n",
       "      <td>37224.39</td>\n",
       "      <td>0.00</td>\n",
       "      <td>s.18(1)(b)</td>\n",
       "      <td>Trade subcontractor</td>\n",
       "      <td>Pty Ltd Company</td>\n",
       "      <td>Solicitors</td>\n",
       "      <td>...</td>\n",
       "      <td>2021-10-27</td>\n",
       "      <td>Northern Victoria</td>\n",
       "      <td>electrical works new pits metering</td>\n",
       "      <td>4</td>\n",
       "      <td>1.000000</td>\n",
       "      <td>5</td>\n",
       "      <td>14</td>\n",
       "      <td>1</td>\n",
       "      <td>H</td>\n",
       "      <td>1</td>\n",
       "    </tr>\n",
       "    <tr>\n",
       "      <th>80</th>\n",
       "      <td>2021-09-07</td>\n",
       "      <td>2021-09-09</td>\n",
       "      <td>Excavation works</td>\n",
       "      <td>3212</td>\n",
       "      <td>32928.00</td>\n",
       "      <td>NaN</td>\n",
       "      <td>s.18(1)(b)</td>\n",
       "      <td>Trade subcontractor</td>\n",
       "      <td>Pty Ltd Company</td>\n",
       "      <td>None</td>\n",
       "      <td>...</td>\n",
       "      <td>2021-10-05</td>\n",
       "      <td>Western Victoria</td>\n",
       "      <td>excavation works</td>\n",
       "      <td>4</td>\n",
       "      <td>1.000000</td>\n",
       "      <td>3</td>\n",
       "      <td>10</td>\n",
       "      <td>2</td>\n",
       "      <td>H</td>\n",
       "      <td>1</td>\n",
       "    </tr>\n",
       "    <tr>\n",
       "      <th>91</th>\n",
       "      <td>2021-09-21</td>\n",
       "      <td>2021-09-23</td>\n",
       "      <td>Excavation works</td>\n",
       "      <td>3228</td>\n",
       "      <td>8500.00</td>\n",
       "      <td>NaN</td>\n",
       "      <td>s.18(1)(b)</td>\n",
       "      <td>Trade subcontractor</td>\n",
       "      <td>Pty Ltd Company</td>\n",
       "      <td>None</td>\n",
       "      <td>...</td>\n",
       "      <td>NaT</td>\n",
       "      <td>Western Victoria</td>\n",
       "      <td>excavation works</td>\n",
       "      <td>4</td>\n",
       "      <td>0.000000</td>\n",
       "      <td>3</td>\n",
       "      <td>7</td>\n",
       "      <td>1</td>\n",
       "      <td>L</td>\n",
       "      <td>0</td>\n",
       "    </tr>\n",
       "    <tr>\n",
       "      <th>113</th>\n",
       "      <td>2021-10-26</td>\n",
       "      <td>2021-10-29</td>\n",
       "      <td>Plumbing and roofing works</td>\n",
       "      <td>3189</td>\n",
       "      <td>12553.04</td>\n",
       "      <td>NaN</td>\n",
       "      <td>s.18(1)(b)</td>\n",
       "      <td>Trade subcontractor</td>\n",
       "      <td>Sole trader</td>\n",
       "      <td>None</td>\n",
       "      <td>...</td>\n",
       "      <td>NaT</td>\n",
       "      <td>Southern Metropolitan</td>\n",
       "      <td>plumbing roofing works</td>\n",
       "      <td>4</td>\n",
       "      <td>0.000000</td>\n",
       "      <td>4</td>\n",
       "      <td>10</td>\n",
       "      <td>3</td>\n",
       "      <td>L</td>\n",
       "      <td>0</td>\n",
       "    </tr>\n",
       "    <tr>\n",
       "      <th>124</th>\n",
       "      <td>2021-11-16</td>\n",
       "      <td>2021-11-22</td>\n",
       "      <td>Bridge replacement</td>\n",
       "      <td>3351</td>\n",
       "      <td>19300.18</td>\n",
       "      <td>NaN</td>\n",
       "      <td>s.18(1)(b)</td>\n",
       "      <td>Head contractor</td>\n",
       "      <td>Pty Ltd Company</td>\n",
       "      <td>Claim preparer</td>\n",
       "      <td>...</td>\n",
       "      <td>NaT</td>\n",
       "      <td>Western Victoria</td>\n",
       "      <td>bridge replacement</td>\n",
       "      <td>0</td>\n",
       "      <td>1.000000</td>\n",
       "      <td>5</td>\n",
       "      <td>16</td>\n",
       "      <td>3</td>\n",
       "      <td>H</td>\n",
       "      <td>1</td>\n",
       "    </tr>\n",
       "    <tr>\n",
       "      <th>155</th>\n",
       "      <td>2021-12-22</td>\n",
       "      <td>2021-12-23</td>\n",
       "      <td>Construction works</td>\n",
       "      <td>3186</td>\n",
       "      <td>203517.80</td>\n",
       "      <td>0.00</td>\n",
       "      <td>s.18(1)(a)(i)</td>\n",
       "      <td>Head contractor</td>\n",
       "      <td>Pty Ltd Company</td>\n",
       "      <td>Solicitors</td>\n",
       "      <td>...</td>\n",
       "      <td>NaT</td>\n",
       "      <td>Southern Metropolitan</td>\n",
       "      <td>construction works</td>\n",
       "      <td>4</td>\n",
       "      <td>0.829458</td>\n",
       "      <td>2</td>\n",
       "      <td>14</td>\n",
       "      <td>14</td>\n",
       "      <td>H</td>\n",
       "      <td>1</td>\n",
       "    </tr>\n",
       "    <tr>\n",
       "      <th>156</th>\n",
       "      <td>2021-12-22</td>\n",
       "      <td>2021-12-23</td>\n",
       "      <td>Construction works</td>\n",
       "      <td>3186</td>\n",
       "      <td>193029.75</td>\n",
       "      <td>0.00</td>\n",
       "      <td>s.18(1)(a)(i)</td>\n",
       "      <td>Head contractor</td>\n",
       "      <td>Pty Ltd Company</td>\n",
       "      <td>Solicitors</td>\n",
       "      <td>...</td>\n",
       "      <td>NaT</td>\n",
       "      <td>Southern Metropolitan</td>\n",
       "      <td>construction works</td>\n",
       "      <td>4</td>\n",
       "      <td>0.699764</td>\n",
       "      <td>2</td>\n",
       "      <td>14</td>\n",
       "      <td>14</td>\n",
       "      <td>MH</td>\n",
       "      <td>1</td>\n",
       "    </tr>\n",
       "    <tr>\n",
       "      <th>230</th>\n",
       "      <td>2022-04-05</td>\n",
       "      <td>2022-04-06</td>\n",
       "      <td>Electrical supply and installation</td>\n",
       "      <td>3996</td>\n",
       "      <td>5004.55</td>\n",
       "      <td>0.00</td>\n",
       "      <td>s.18(1)(a)(i)</td>\n",
       "      <td>Head contractor</td>\n",
       "      <td>Pty Ltd Company</td>\n",
       "      <td>None</td>\n",
       "      <td>...</td>\n",
       "      <td>2022-05-02</td>\n",
       "      <td>Eastern Victoria</td>\n",
       "      <td>electrical supply installation</td>\n",
       "      <td>0</td>\n",
       "      <td>1.000000</td>\n",
       "      <td>2</td>\n",
       "      <td>11</td>\n",
       "      <td>1</td>\n",
       "      <td>H</td>\n",
       "      <td>1</td>\n",
       "    </tr>\n",
       "    <tr>\n",
       "      <th>240</th>\n",
       "      <td>2022-04-10</td>\n",
       "      <td>2022-04-14</td>\n",
       "      <td>Steel Fabrication</td>\n",
       "      <td>3195</td>\n",
       "      <td>31280.64</td>\n",
       "      <td>0.00</td>\n",
       "      <td>s.18(1)(a)(i)</td>\n",
       "      <td>Manufacturer of building materials or components</td>\n",
       "      <td>Pty Ltd Company</td>\n",
       "      <td>None</td>\n",
       "      <td>...</td>\n",
       "      <td>NaT</td>\n",
       "      <td>South-Eastern Metropolitan</td>\n",
       "      <td>steel fabrication</td>\n",
       "      <td>6</td>\n",
       "      <td>0.654563</td>\n",
       "      <td>4</td>\n",
       "      <td>13</td>\n",
       "      <td>3</td>\n",
       "      <td>MH</td>\n",
       "      <td>1</td>\n",
       "    </tr>\n",
       "    <tr>\n",
       "      <th>270</th>\n",
       "      <td>2022-04-29</td>\n",
       "      <td>2022-05-02</td>\n",
       "      <td>Cladding works</td>\n",
       "      <td>3011</td>\n",
       "      <td>23862.40</td>\n",
       "      <td>0.00</td>\n",
       "      <td>s.18(1)(a)(i)</td>\n",
       "      <td>Head contractor</td>\n",
       "      <td>Pty Ltd Company</td>\n",
       "      <td>None</td>\n",
       "      <td>...</td>\n",
       "      <td>2022-05-24</td>\n",
       "      <td>Western Metropolitan</td>\n",
       "      <td>cladding works</td>\n",
       "      <td>4</td>\n",
       "      <td>1.000000</td>\n",
       "      <td>2</td>\n",
       "      <td>13</td>\n",
       "      <td>1</td>\n",
       "      <td>H</td>\n",
       "      <td>1</td>\n",
       "    </tr>\n",
       "    <tr>\n",
       "      <th>271</th>\n",
       "      <td>2022-04-29</td>\n",
       "      <td>2022-05-02</td>\n",
       "      <td>Cladding works</td>\n",
       "      <td>3011</td>\n",
       "      <td>23862.40</td>\n",
       "      <td>0.00</td>\n",
       "      <td>s.18(1)(a)(i)</td>\n",
       "      <td>Head contractor</td>\n",
       "      <td>Pty Ltd Company</td>\n",
       "      <td>None</td>\n",
       "      <td>...</td>\n",
       "      <td>2022-05-24</td>\n",
       "      <td>Western Metropolitan</td>\n",
       "      <td>cladding works</td>\n",
       "      <td>4</td>\n",
       "      <td>1.000000</td>\n",
       "      <td>2</td>\n",
       "      <td>11</td>\n",
       "      <td>1</td>\n",
       "      <td>H</td>\n",
       "      <td>1</td>\n",
       "    </tr>\n",
       "    <tr>\n",
       "      <th>273</th>\n",
       "      <td>2022-05-03</td>\n",
       "      <td>2022-05-04</td>\n",
       "      <td>Electrical works</td>\n",
       "      <td>3658</td>\n",
       "      <td>8745.45</td>\n",
       "      <td>NaN</td>\n",
       "      <td>s.18(1)(b)</td>\n",
       "      <td>Head contractor</td>\n",
       "      <td>Pty Ltd Company</td>\n",
       "      <td>None</td>\n",
       "      <td>...</td>\n",
       "      <td>NaT</td>\n",
       "      <td>Northern Victoria</td>\n",
       "      <td>electrical works</td>\n",
       "      <td>4</td>\n",
       "      <td>0.942827</td>\n",
       "      <td>2</td>\n",
       "      <td>13</td>\n",
       "      <td>5</td>\n",
       "      <td>H</td>\n",
       "      <td>1</td>\n",
       "    </tr>\n",
       "    <tr>\n",
       "      <th>288</th>\n",
       "      <td>2022-05-16</td>\n",
       "      <td>2022-05-17</td>\n",
       "      <td>Construction works</td>\n",
       "      <td>3931</td>\n",
       "      <td>109858.20</td>\n",
       "      <td>52517.58</td>\n",
       "      <td>s.18(1)(a)(i)</td>\n",
       "      <td>Head contractor</td>\n",
       "      <td>Pty Ltd Company</td>\n",
       "      <td>Solicitors</td>\n",
       "      <td>...</td>\n",
       "      <td>NaT</td>\n",
       "      <td>Eastern Victoria</td>\n",
       "      <td>construction works</td>\n",
       "      <td>4</td>\n",
       "      <td>0.867563</td>\n",
       "      <td>2</td>\n",
       "      <td>12</td>\n",
       "      <td>1</td>\n",
       "      <td>H</td>\n",
       "      <td>1</td>\n",
       "    </tr>\n",
       "  </tbody>\n",
       "</table>\n",
       "<p>13 rows × 38 columns</p>\n",
       "</div>"
      ],
      "text/plain": [
       "            Application date Acceptance date  \\\n",
       "No. of App.                                    \n",
       "71                2021-08-31      2021-09-06   \n",
       "80                2021-09-07      2021-09-09   \n",
       "91                2021-09-21      2021-09-23   \n",
       "113               2021-10-26      2021-10-29   \n",
       "124               2021-11-16      2021-11-22   \n",
       "155               2021-12-22      2021-12-23   \n",
       "156               2021-12-22      2021-12-23   \n",
       "230               2022-04-05      2022-04-06   \n",
       "240               2022-04-10      2022-04-14   \n",
       "270               2022-04-29      2022-05-02   \n",
       "271               2022-04-29      2022-05-02   \n",
       "273               2022-05-03      2022-05-04   \n",
       "288               2022-05-16      2022-05-17   \n",
       "\n",
       "            Description of project and contract works Project postcode  \\\n",
       "No. of App.                                                              \n",
       "71           Electrical Works (new pits and metering)             3581   \n",
       "80                                   Excavation works             3212   \n",
       "91                                   Excavation works             3228   \n",
       "113                        Plumbing and roofing works             3189   \n",
       "124                                Bridge replacement             3351   \n",
       "155                                Construction works             3186   \n",
       "156                                Construction works             3186   \n",
       "230                Electrical supply and installation             3996   \n",
       "240                                 Steel Fabrication             3195   \n",
       "270                                    Cladding works             3011   \n",
       "271                                    Cladding works             3011   \n",
       "273                                  Electrical works             3658   \n",
       "288                                Construction works             3931   \n",
       "\n",
       "             Claimed amount (ex GST)  Amount of Payment Schedule (ex GST)  \\\n",
       "No. of App.                                                                 \n",
       "71                          37224.39                                 0.00   \n",
       "80                          32928.00                                  NaN   \n",
       "91                           8500.00                                  NaN   \n",
       "113                         12553.04                                  NaN   \n",
       "124                         19300.18                                  NaN   \n",
       "155                        203517.80                                 0.00   \n",
       "156                        193029.75                                 0.00   \n",
       "230                          5004.55                                 0.00   \n",
       "240                         31280.64                                 0.00   \n",
       "270                         23862.40                                 0.00   \n",
       "271                         23862.40                                 0.00   \n",
       "273                          8745.45                                  NaN   \n",
       "288                        109858.20                             52517.58   \n",
       "\n",
       "            Section of Act application made under  \\\n",
       "No. of App.                                         \n",
       "71                                     s.18(1)(b)   \n",
       "80                                     s.18(1)(b)   \n",
       "91                                     s.18(1)(b)   \n",
       "113                                    s.18(1)(b)   \n",
       "124                                    s.18(1)(b)   \n",
       "155                                 s.18(1)(a)(i)   \n",
       "156                                 s.18(1)(a)(i)   \n",
       "230                                 s.18(1)(a)(i)   \n",
       "240                                 s.18(1)(a)(i)   \n",
       "270                                 s.18(1)(a)(i)   \n",
       "271                                 s.18(1)(a)(i)   \n",
       "273                                    s.18(1)(b)   \n",
       "288                                 s.18(1)(a)(i)   \n",
       "\n",
       "                            Business Type/Activity (Claimant)  \\\n",
       "No. of App.                                                     \n",
       "71                                        Trade subcontractor   \n",
       "80                                        Trade subcontractor   \n",
       "91                                        Trade subcontractor   \n",
       "113                                       Trade subcontractor   \n",
       "124                                           Head contractor   \n",
       "155                                           Head contractor   \n",
       "156                                           Head contractor   \n",
       "230                                           Head contractor   \n",
       "240          Manufacturer of building materials or components   \n",
       "270                                           Head contractor   \n",
       "271                                           Head contractor   \n",
       "273                                           Head contractor   \n",
       "288                                           Head contractor   \n",
       "\n",
       "            Business Structure (Claimant) Claimant advisers  ...  \\\n",
       "No. of App.                                                  ...   \n",
       "71                        Pty Ltd Company        Solicitors  ...   \n",
       "80                        Pty Ltd Company              None  ...   \n",
       "91                        Pty Ltd Company              None  ...   \n",
       "113                           Sole trader              None  ...   \n",
       "124                       Pty Ltd Company    Claim preparer  ...   \n",
       "155                       Pty Ltd Company        Solicitors  ...   \n",
       "156                       Pty Ltd Company        Solicitors  ...   \n",
       "230                       Pty Ltd Company              None  ...   \n",
       "240                       Pty Ltd Company              None  ...   \n",
       "270                       Pty Ltd Company              None  ...   \n",
       "271                       Pty Ltd Company              None  ...   \n",
       "273                       Pty Ltd Company              None  ...   \n",
       "288                       Pty Ltd Company        Solicitors  ...   \n",
       "\n",
       "            Date Adjudication Certificate issued                 Region name  \\\n",
       "No. of App.                                                                    \n",
       "71                                    2021-10-27           Northern Victoria   \n",
       "80                                    2021-10-05            Western Victoria   \n",
       "91                                           NaT            Western Victoria   \n",
       "113                                          NaT       Southern Metropolitan   \n",
       "124                                          NaT            Western Victoria   \n",
       "155                                          NaT       Southern Metropolitan   \n",
       "156                                          NaT       Southern Metropolitan   \n",
       "230                                   2022-05-02            Eastern Victoria   \n",
       "240                                          NaT  South-Eastern Metropolitan   \n",
       "270                                   2022-05-24        Western Metropolitan   \n",
       "271                                   2022-05-24        Western Metropolitan   \n",
       "273                                          NaT           Northern Victoria   \n",
       "288                                          NaT            Eastern Victoria   \n",
       "\n",
       "                  Description of work processed Work category  \\\n",
       "No. of App.                                                     \n",
       "71           electrical works new pits metering             4   \n",
       "80                             excavation works             4   \n",
       "91                             excavation works             4   \n",
       "113                      plumbing roofing works             4   \n",
       "124                          bridge replacement             0   \n",
       "155                          construction works             4   \n",
       "156                          construction works             4   \n",
       "230              electrical supply installation             0   \n",
       "240                           steel fabrication             6   \n",
       "270                              cladding works             4   \n",
       "271                              cladding works             4   \n",
       "273                            electrical works             4   \n",
       "288                          construction works             4   \n",
       "\n",
       "            Adjudicate ratio Business Days between Application and Acceptance  \\\n",
       "No. of App.                                                                     \n",
       "71                  1.000000                                                5   \n",
       "80                  1.000000                                                3   \n",
       "91                  0.000000                                                3   \n",
       "113                 0.000000                                                4   \n",
       "124                 1.000000                                                5   \n",
       "155                 0.829458                                                2   \n",
       "156                 0.699764                                                2   \n",
       "230                 1.000000                                                2   \n",
       "240                 0.654563                                                4   \n",
       "270                 1.000000                                                2   \n",
       "271                 1.000000                                                2   \n",
       "273                 0.942827                                                2   \n",
       "288                 0.867563                                                2   \n",
       "\n",
       "            Business Days between Acceptance and Completion  \\\n",
       "No. of App.                                                   \n",
       "71                                                       14   \n",
       "80                                                       10   \n",
       "91                                                        7   \n",
       "113                                                      10   \n",
       "124                                                      16   \n",
       "155                                                      14   \n",
       "156                                                      14   \n",
       "230                                                      11   \n",
       "240                                                      13   \n",
       "270                                                      13   \n",
       "271                                                      11   \n",
       "273                                                      13   \n",
       "288                                                      12   \n",
       "\n",
       "            Business Days between Completion and Release Adjudicate ratio bin  \\\n",
       "No. of App.                                                                     \n",
       "71                                                     1                    H   \n",
       "80                                                     2                    H   \n",
       "91                                                     1                    L   \n",
       "113                                                    3                    L   \n",
       "124                                                    3                    H   \n",
       "155                                                   14                    H   \n",
       "156                                                   14                   MH   \n",
       "230                                                    1                    H   \n",
       "240                                                    3                   MH   \n",
       "270                                                    1                    H   \n",
       "271                                                    1                    H   \n",
       "273                                                    5                    H   \n",
       "288                                                    1                    H   \n",
       "\n",
       "            Adjudicate ratio binary  \n",
       "No. of App.                          \n",
       "71                                1  \n",
       "80                                1  \n",
       "91                                0  \n",
       "113                               0  \n",
       "124                               1  \n",
       "155                               1  \n",
       "156                               1  \n",
       "230                               1  \n",
       "240                               1  \n",
       "270                               1  \n",
       "271                               1  \n",
       "273                               1  \n",
       "288                               1  \n",
       "\n",
       "[13 rows x 38 columns]"
      ]
     },
     "execution_count": 66,
     "metadata": {},
     "output_type": "execute_result"
    }
   ],
   "source": [
    "df_det.loc[df_det['Business Structure (Respondent)'] == 'Other', ]"
   ]
  },
  {
   "cell_type": "markdown",
   "metadata": {
    "id": "KcuYlAkufaj0"
   },
   "source": [
    "### Model 1: beta regression\n",
    "motivation: as a criteria to help PC decide whether he should use the service\n",
    "- response: % of the claimed amount adjudicated\n",
    "- predictor: TBD"
   ]
  },
  {
   "cell_type": "markdown",
   "metadata": {},
   "source": [
    "### Model 2: beta regression\n",
    "motivation: as a criteria to help PC decide whether he should use the service\n",
    "- response: % of the claimed amount adjudicated\n",
    "- predictor: TBD"
   ]
  },
  {
   "cell_type": "markdown",
   "metadata": {
    "id": "YtpVUJaQfsFJ"
   },
   "source": [
    "### Model 3: multinomial logistic regression\n",
    "motivation: try to predict the Certificate fee if PC choose to have one issued.reverse engineering how the government calculates this fee.   \n",
    "46 cases.\n",
    "- response: Adjudication Certificate fee\n",
    "  - currently has 4 levels: 0, 100, 300, 500\n",
    "- predictor: TBD"
   ]
  },
  {
   "cell_type": "markdown",
   "metadata": {
    "id": "MNMlCYBMBjpO"
   },
   "source": [
    "### Model 4: binomial logistic regression\n",
    "movitation: predict whether a case would end up being determined.  \n",
    "limitation: \n",
    "- response: determination status: determined vs. not determined\n",
    "- predictor: TBD"
   ]
  },
  {
   "cell_type": "markdown",
   "metadata": {
    "id": "cQ4VU-R5Vp1F"
   },
   "source": [
    "# Limitation and Future Improvement"
   ]
  },
  {
   "cell_type": "markdown",
   "metadata": {
    "id": "Wt27t-z3V471"
   },
   "source": [
    "- The preprocessing is not very robust.\n",
    "  - The logical relationship between varialbe is very intricate and intertwined which makes the ordering of our preprocessing very vulnerable. A single switch of ordering between steps could render following steps unfunctional. \n",
    "  - This signals that our preprocessing is not very robust and is too specific to our dataset to generalize to other datasets.\n",
    "  - On the other hand, the nature of our preprocessing is highly accurate which satisfied both legal requirement and logical constraints instead of just dealing with missing values and mis-inputs. \n",
    "  - So it's really hard to strike a balance between robustness and accuracy.\n",
    "  \n",
    "- "
   ]
  },
  {
   "cell_type": "markdown",
   "metadata": {
    "id": "rac4ot-wYLiG"
   },
   "source": [
    "# Code dustbin"
   ]
  },
  {
   "cell_type": "markdown",
   "metadata": {
    "id": "pS9QsTMNYQYA"
   },
   "source": [
    "## preprocessing"
   ]
  },
  {
   "cell_type": "markdown",
   "metadata": {
    "id": "u-ZyqrVWhzhL"
   },
   "source": [
    "number data format: This problem is probably due to Mac-version excel, everything is fine when you convert it to pandas or view it on windows excel."
   ]
  },
  {
   "cell_type": "code",
   "execution_count": 67,
   "metadata": {
    "executionInfo": {
     "elapsed": 10,
     "status": "ok",
     "timestamp": 1683801782249,
     "user": {
      "displayName": "Jonas Sun",
      "userId": "12770804660918315892"
     },
     "user_tz": -600
    },
    "id": "jYIC2HTdbkEK"
   },
   "outputs": [],
   "source": [
    "# 'Payment Schedule provision' to lowercase\n",
    "# df['Payment Schedule provision'] = df['Payment Schedule provision'].apply(lambda x: x.lower() if type(x) == str else x)"
   ]
  },
  {
   "cell_type": "code",
   "execution_count": 68,
   "metadata": {
    "executionInfo": {
     "elapsed": 10,
     "status": "ok",
     "timestamp": 1683801782249,
     "user": {
      "displayName": "Jonas Sun",
      "userId": "12770804660918315892"
     },
     "user_tz": -600
    },
    "id": "7kW0sv7ladnJ"
   },
   "outputs": [],
   "source": [
    "# locate \"withheld\" in column 'Adjudicated amount (ex GST)' and 'Total Adjudicator fee (ex GST)' \n",
    "# in row 58 199 312\n",
    "# delete 3 rows \n",
    "# df = df.drop(df.loc[df['Adjudicated amount (ex GST)'] == 'Withheld'].index)"
   ]
  },
  {
   "cell_type": "code",
   "execution_count": 69,
   "metadata": {
    "executionInfo": {
     "elapsed": 9,
     "status": "ok",
     "timestamp": 1683801782249,
     "user": {
      "displayName": "Jonas Sun",
      "userId": "12770804660918315892"
     },
     "user_tz": -600
    },
    "id": "ytMxfp8yKSCy"
   },
   "outputs": [],
   "source": [
    "# preprocessing: number format in the dataset is wrong\n",
    "# eg: all the numbers are like 5.727,27\n",
    "# thousand separator and decimal points are swapped\n",
    "\n",
    "# # TODO: write code to fix this\n",
    "# for col in FLOAT64:\n",
    "#   for i, entry in enumerate(df[col]):\n",
    "#     try:\n",
    "#       if type(entry) == \n",
    "#         df[col][i] = re.sub('[,.]', '', entry)\n",
    "#     except TypeError:\n",
    "#       print(\"col: \", col, \"entry: \", entry)\n",
    "#   # try:\n",
    "#   #   df_det[col] = [re.sub('[,.]', '', n) for if type(n) n in df_det[col]]\n",
    "#   # except TypeError:\n",
    "#   #   print(\"the problematic col is: \", col)"
   ]
  },
  {
   "cell_type": "code",
   "execution_count": null,
   "metadata": {
    "executionInfo": {
     "elapsed": 9,
     "status": "ok",
     "timestamp": 1683801782249,
     "user": {
      "displayName": "Jonas Sun",
      "userId": "12770804660918315892"
     },
     "user_tz": -600
    },
    "id": "Mbtx8rUXXfkD"
   },
   "outputs": [],
   "source": []
  }
 ],
 "metadata": {
  "colab": {
   "provenance": [],
   "toc_visible": true
  },
  "kernelspec": {
   "display_name": "Python 3 (ipykernel)",
   "language": "python",
   "name": "python3"
  },
  "language_info": {
   "codemirror_mode": {
    "name": "ipython",
    "version": 3
   },
   "file_extension": ".py",
   "mimetype": "text/x-python",
   "name": "python",
   "nbconvert_exporter": "python",
   "pygments_lexer": "ipython3",
   "version": "3.11.2"
  }
 },
 "nbformat": 4,
 "nbformat_minor": 1
}
